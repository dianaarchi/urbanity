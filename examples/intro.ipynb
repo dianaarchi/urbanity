{
 "cells": [
  {
   "cell_type": "code",
   "execution_count": null,
   "id": "5b713820-94e9-46f6-a1e9-899b3b6edcd6",
   "metadata": {},
   "outputs": [],
   "source": [
    "import osmnx as ox\n",
    "import pyrosm\n",
    "import pandas as pd\n",
    "import geopandas as gpd\n",
    "import numpy as np\n",
    "import networkx as nx\n",
    "import matplotlib.pyplot as plt\n",
    "from shapely.ops import split\n",
    "from pyrosm import get_data\n",
    "from pyrosm.data import sources\n",
    "from functools import partial\n",
    "import shapely\n",
    "from shapely.geometry import Point, LineString, MultiPolygon\n",
    "from ipyleaflet import Map, GeoJSON, GeoData, basemaps, basemap_to_tiles, Icon, Marker, LayersControl, LayerGroup, DrawControl, FullScreenControl, MeasureControl, ScaleControl, LocalTileLayer"
   ]
  },
  {
   "cell_type": "code",
   "execution_count": null,
   "id": "b98eeb54-4e4e-4a3c-856e-072fad61c26f",
   "metadata": {},
   "outputs": [],
   "source": [
    "# fp = get_data(\"Singapore\", update=True)\n",
    "fp = get_data(\"London\", directory=\"./data\")\n",
    "print(\"Data was downloaded to:\", fp)"
   ]
  },
  {
   "cell_type": "code",
   "execution_count": null,
   "id": "db2b9768-7a79-4a3b-955d-391701f33b52",
   "metadata": {},
   "outputs": [],
   "source": [
    "tanjong_pagar = gpd.read_file('tpzone.geojson')"
   ]
  },
  {
   "cell_type": "code",
   "execution_count": null,
   "id": "c1837781-1e38-41d7-bfbb-bc89e276f303",
   "metadata": {},
   "outputs": [],
   "source": [
    "tanjong_pagar"
   ]
  },
  {
   "cell_type": "markdown",
   "id": "2b39e695-cc85-45d8-81ba-445d21df5697",
   "metadata": {},
   "source": [
    "## Clean Periphery"
   ]
  },
  {
   "cell_type": "code",
   "execution_count": null,
   "id": "14914145-65cc-49e0-9f32-40e2c6a61a24",
   "metadata": {},
   "outputs": [],
   "source": [
    "polygon_bbox = tanjong_pagar.geometry.values[0]"
   ]
  },
  {
   "cell_type": "code",
   "execution_count": null,
   "id": "2a3a7e0f-90d3-4498-81ff-13f8a2e13e5a",
   "metadata": {},
   "outputs": [],
   "source": [
    "polygon_bbox"
   ]
  },
  {
   "cell_type": "code",
   "execution_count": null,
   "id": "ba9ab482-e3ff-4e82-aaa0-6d32a72ae128",
   "metadata": {},
   "outputs": [],
   "source": [
    "def project_gdf(gdf):\n",
    "    mean_longitude = gdf[\"geometry\"].representative_point().x.mean()\n",
    "\n",
    "    # Compute UTM crs\n",
    "    utm_zone = int(np.floor((mean_longitude + 180) / 6) + 1)\n",
    "    utm_crs = f\"+proj=utm +zone={utm_zone} +ellps=WGS84 +datum=WGS84 +units=m +no_defs\"\n",
    "\n",
    "    # project the GeoDataFrame to the UTM CRS\n",
    "    gdf_proj = gdf.to_crs(utm_crs)\n",
    "    print(f\"Projected to {gdf_proj.crs}\")\n",
    "    \n",
    "    return gdf_proj"
   ]
  },
  {
   "cell_type": "code",
   "execution_count": null,
   "id": "60f009a1-580d-4ef3-9a8c-5b23beb7b361",
   "metadata": {},
   "outputs": [],
   "source": [
    "def buffer_polygon(gdf, bandwidth = 50):\n",
    "    buffer_zone = project_gdf(gdf).buffer(bandwidth)\n",
    "    buffered_gdf = buffer_zone.to_crs(4326)\n",
    "    return buffered_gdf\n",
    "\n",
    "buffered_tp = buffer_polygon(tanjong_pagar)\n",
    "buffered_bbox = buffered_tp.geometry.values[0]"
   ]
  },
  {
   "cell_type": "code",
   "execution_count": null,
   "id": "669ea9a2-5b97-4d96-9a27-38edb770467c",
   "metadata": {},
   "outputs": [],
   "source": [
    "buffered_bbox"
   ]
  },
  {
   "cell_type": "code",
   "execution_count": null,
   "id": "8c9e9e60-73b0-49a7-91e0-dadce8382b13",
   "metadata": {},
   "outputs": [],
   "source": [
    "# Initialize the OSM object \n",
    "osm = pyrosm.OSM(fp, bounding_box=buffered_bbox)"
   ]
  },
  {
   "cell_type": "code",
   "execution_count": null,
   "id": "948a8850-fea9-4081-b973-d81e86291d67",
   "metadata": {},
   "outputs": [],
   "source": [
    "nodes, edges = osm.get_network(network_type=\"driving\", nodes=True)"
   ]
  },
  {
   "cell_type": "code",
   "execution_count": null,
   "id": "c616520b-d22e-48c6-a9fe-7c0ef8418cd8",
   "metadata": {},
   "outputs": [],
   "source": [
    "G_buff = osm.to_graph(nodes, edges, graph_type=\"networkx\", force_bidirectional=True, retain_all=True)"
   ]
  },
  {
   "cell_type": "code",
   "execution_count": null,
   "id": "12328325-46be-41d6-8a7f-5c5637d02095",
   "metadata": {},
   "outputs": [],
   "source": [
    "def great_circle_vec(lat1, lng1, lat2, lng2, earth_radius=6_371_009):\n",
    "    \"\"\"\n",
    "    Calculate great-circle distances between pairs of points.\n",
    "\n",
    "    Vectorized function to calculate the great-circle distance between two\n",
    "    points' coordinates or between arrays of points' coordinates using the\n",
    "    haversine formula. Expects coordinates in decimal degrees.\n",
    "\n",
    "    Parameters\n",
    "    ----------\n",
    "    lat1 : float or numpy.array of float\n",
    "        first point's latitude coordinate\n",
    "    lng1 : float or numpy.array of float\n",
    "        first point's longitude coordinate\n",
    "    lat2 : float or numpy.array of float\n",
    "        second point's latitude coordinate\n",
    "    lng2 : float or numpy.array of float\n",
    "        second point's longitude coordinate\n",
    "    earth_radius : float\n",
    "        earth's radius in units in which distance will be returned (default is\n",
    "        meters)\n",
    "\n",
    "    Returns\n",
    "    -------\n",
    "    dist : float or numpy.array of float\n",
    "        distance from each (lat1, lng1) to each (lat2, lng2) in units of\n",
    "        earth_radius\n",
    "    \"\"\"\n",
    "    y1 = np.deg2rad(lat1)\n",
    "    y2 = np.deg2rad(lat2)\n",
    "    dy = y2 - y1\n",
    "\n",
    "    x1 = np.deg2rad(lng1)\n",
    "    x2 = np.deg2rad(lng2)\n",
    "    dx = x2 - x1\n",
    "\n",
    "    h = np.sin(dy / 2) ** 2 + np.cos(y1) * np.cos(y2) * np.sin(dx / 2) ** 2\n",
    "    h = np.minimum(1, h)  # protect against floating point errors\n",
    "    arc = 2 * np.arcsin(np.sqrt(h))\n",
    "\n",
    "    # return distance in units of earth_radius\n",
    "    return arc * earth_radius"
   ]
  },
  {
   "cell_type": "code",
   "execution_count": null,
   "id": "f42b477e-9b90-4289-83ff-2afdd4ae69be",
   "metadata": {},
   "outputs": [],
   "source": [
    "# Add edge lengths\n",
    "def add_edge_lengths(G, precision=3):\n",
    "    uvk = tuple(G.edges)\n",
    "    x = G.nodes(data=\"x\")\n",
    "    y = G.nodes(data=\"y\")\n",
    "    \n",
    "    try:\n",
    "        # two-dimensional array of coordinates: y0, x0, y1, x1\n",
    "        c = np.array([(y[u], x[u], y[v], x[v]) for u, v, k in uvk])\n",
    "        \n",
    "    except KeyError:  # pragma: no cover\n",
    "        raise KeyError(\"some edges missing nodes, possibly due to input data clipping issue\")\n",
    "        \n",
    "    dists = great_circle_vec(c[:, 0], c[:, 1], c[:, 2], c[:, 3]).round(precision)\n",
    "    dists[np.isnan(dists)] = 0\n",
    "    nx.set_edge_attributes(G, values=dict(zip(uvk, dists)), name=\"length\")\n",
    "    \n",
    "    return G"
   ]
  },
  {
   "cell_type": "code",
   "execution_count": null,
   "id": "efa1d740-da6a-4db5-ad83-839aef957249",
   "metadata": {},
   "outputs": [],
   "source": [
    "G_buff = add_edge_lengths(G_buff)"
   ]
  },
  {
   "cell_type": "markdown",
   "id": "029dffad-a169-43ac-95dc-eb35f842c608",
   "metadata": {},
   "source": [
    "## Simplify Graph"
   ]
  },
  {
   "cell_type": "code",
   "execution_count": null,
   "id": "f6657358-dfb6-45af-ac20-e4e321907bc0",
   "metadata": {},
   "outputs": [],
   "source": [
    "def _is_endpoint(G, node, strict=True):\n",
    "    \"\"\"\n",
    "    Is node a true endpoint of an edge.\n",
    "\n",
    "    Return True if the node is a \"real\" endpoint of an edge in the network,\n",
    "    otherwise False. OSM data includes lots of nodes that exist only as points\n",
    "    to help streets bend around curves. An end point is a node that either:\n",
    "    1) is its own neighbor, ie, it self-loops.\n",
    "    2) or, has no incoming edges or no outgoing edges, ie, all its incident\n",
    "    edges point inward or all its incident edges point outward.\n",
    "    3) or, it does not have exactly two neighbors and degree of 2 or 4.\n",
    "    4) or, if strict mode is false, if its edges have different OSM IDs.\n",
    "\n",
    "    Parameters\n",
    "    ----------\n",
    "    G : networkx.MultiDiGraph\n",
    "        input graph\n",
    "    node : int\n",
    "        the node to examine\n",
    "    strict : bool\n",
    "        if False, allow nodes to be end points even if they fail all other rules\n",
    "        but have edges with different OSM IDs\n",
    "\n",
    "    Returns\n",
    "    -------\n",
    "    bool\n",
    "    \"\"\"\n",
    "    neighbors = set(list(G.predecessors(node)) + list(G.successors(node)))\n",
    "    n = len(neighbors)\n",
    "    d = G.degree(node)\n",
    "\n",
    "    # rule 1\n",
    "    if node in neighbors:\n",
    "        # if the node appears in its list of neighbors, it self-loops\n",
    "        # this is always an endpoint.\n",
    "        return True\n",
    "\n",
    "    # rule 2\n",
    "    elif G.out_degree(node) == 0 or G.in_degree(node) == 0:\n",
    "        # if node has no incoming edges or no outgoing edges, it is an endpoint\n",
    "        return True\n",
    "\n",
    "    # rule 3\n",
    "    elif not (n == 2 and (d == 2 or d == 4)):\n",
    "        # else, if it does NOT have 2 neighbors AND either 2 or 4 directed\n",
    "        # edges, it is an endpoint. either it has 1 or 3+ neighbors, in which\n",
    "        # case it is a dead-end or an intersection of multiple streets or it has\n",
    "        # 2 neighbors but 3 degree (indicating a change from oneway to twoway)\n",
    "        # or more than 4 degree (indicating a parallel edge) and thus is an\n",
    "        # endpoint\n",
    "        return True\n",
    "\n",
    "    # rule 4\n",
    "    elif not strict:\n",
    "        # non-strict mode: do its incident edges have different OSM IDs?\n",
    "        osmids = []\n",
    "\n",
    "        # add all the edge OSM IDs for incoming edges\n",
    "        for u in G.predecessors(node):\n",
    "            for key in G[u][node]:\n",
    "                osmids.append(G.edges[u, node, key][\"osmid\"])\n",
    "\n",
    "        # add all the edge OSM IDs for outgoing edges\n",
    "        for v in G.successors(node):\n",
    "            for key in G[node][v]:\n",
    "                osmids.append(G.edges[node, v, key][\"osmid\"])\n",
    "\n",
    "        # if there is more than 1 OSM ID in the list of edge OSM IDs then it is\n",
    "        # an endpoint, if not, it isn't\n",
    "        return len(set(osmids)) > 1\n",
    "\n",
    "    # if none of the preceding rules returned true, then it is not an endpoint\n",
    "    else:\n",
    "        return False\n",
    "    \n",
    "def _build_path(G, endpoint, endpoint_successor, endpoints):\n",
    "    \"\"\"\n",
    "    Build a path of nodes from one endpoint node to next endpoint node.\n",
    "\n",
    "    Parameters\n",
    "    ----------\n",
    "    G : networkx.MultiDiGraph\n",
    "        input graph\n",
    "    endpoint : int\n",
    "        the endpoint node from which to start the path\n",
    "    endpoint_successor : int\n",
    "        the successor of endpoint through which the path to the next endpoint\n",
    "        will be built\n",
    "    endpoints : set\n",
    "        the set of all nodes in the graph that are endpoints\n",
    "\n",
    "    Returns\n",
    "    -------\n",
    "    path : list\n",
    "        the first and last items in the resulting path list are endpoint\n",
    "        nodes, and all other items are interstitial nodes that can be removed\n",
    "        subsequently\n",
    "    \"\"\"\n",
    "    # start building path from endpoint node through its successor\n",
    "    path = [endpoint, endpoint_successor]\n",
    "\n",
    "    # for each successor of the endpoint's successor\n",
    "    for successor in G.successors(endpoint_successor):\n",
    "        if successor not in path:\n",
    "            # if this successor is already in the path, ignore it, otherwise add\n",
    "            # it to the path\n",
    "            path.append(successor)\n",
    "            while successor not in endpoints:\n",
    "                # find successors (of current successor) not in path\n",
    "                successors = [n for n in G.successors(successor) if n not in path]\n",
    "\n",
    "                # 99%+ of the time there will be only 1 successor: add to path\n",
    "                if len(successors) == 1:\n",
    "                    successor = successors[0]\n",
    "                    path.append(successor)\n",
    "\n",
    "                # handle relatively rare cases or OSM digitization quirks\n",
    "                elif len(successors) == 0:\n",
    "                    if endpoint in G.successors(successor):\n",
    "                        # we have come to the end of a self-looping edge, so\n",
    "                        # add first node to end of path to close it and return\n",
    "                        return path + [endpoint]\n",
    "                    else:  # pragma: no cover\n",
    "                        # this can happen due to OSM digitization error where\n",
    "                        # a one-way street turns into a two-way here, but\n",
    "                        # duplicate incoming one-way edges are present\n",
    "                        utils.log(\n",
    "                            f\"Unexpected simplify pattern handled near {successor}\", level=lg.WARN\n",
    "                        )\n",
    "                        return path\n",
    "                else:  # pragma: no cover\n",
    "                    # if successor has >1 successors, then successor must have\n",
    "                    # been an endpoint because you can go in 2 new directions.\n",
    "                    # this should never occur in practice\n",
    "                    raise Exception(f\"Unexpected simplify pattern failed near {successor}\")\n",
    "\n",
    "            # if this successor is an endpoint, we've completed the path\n",
    "            return path\n",
    "\n",
    "    # if endpoint_successor has no successors not already in the path, return\n",
    "    # the current path: this is usually due to a digitization quirk on OSM\n",
    "    return path\n",
    "\n",
    "def _get_paths_to_simplify(G, strict=True):\n",
    "    \"\"\"\n",
    "    Generate all the paths to be simplified between endpoint nodes.\n",
    "\n",
    "    The path is ordered from the first endpoint, through the interstitial nodes,\n",
    "    to the second endpoint.\n",
    "\n",
    "    Parameters\n",
    "    ----------\n",
    "    G : networkx.MultiDiGraph\n",
    "        input graph\n",
    "    strict : bool\n",
    "        if False, allow nodes to be end points even if they fail all other rules\n",
    "        but have edges with different OSM IDs\n",
    "\n",
    "    Yields\n",
    "    ------\n",
    "    path_to_simplify : list\n",
    "    \"\"\"\n",
    "    # first identify all the nodes that are endpoints\n",
    "    endpoints = set([n for n in G.nodes if _is_endpoint(G, n, strict=strict)])\n",
    "\n",
    "    # for each endpoint node, look at each of its successor nodes\n",
    "    for endpoint in endpoints:\n",
    "        for successor in G.successors(endpoint):\n",
    "            if successor not in endpoints:\n",
    "                # if endpoint node's successor is not an endpoint, build path\n",
    "                # from the endpoint node, through the successor, and on to the\n",
    "                # next endpoint node\n",
    "                yield _build_path(G, endpoint, successor, endpoints)\n",
    "                \n",
    "def simplify_graph(G, strict=True, remove_rings=True):\n",
    "    \"\"\"\n",
    "    Simplify a graph's topology by removing interstitial nodes.\n",
    "\n",
    "    Simplifies graph topology by removing all nodes that are not intersections\n",
    "    or dead-ends. Create an edge directly between the end points that\n",
    "    encapsulate them, but retain the geometry of the original edges, saved as\n",
    "    a new `geometry` attribute on the new edge. Note that only simplified\n",
    "    edges receive a `geometry` attribute. Some of the resulting consolidated\n",
    "    edges may comprise multiple OSM ways, and if so, their multiple attribute\n",
    "    values are stored as a list.\n",
    "\n",
    "    Parameters\n",
    "    ----------\n",
    "    G : networkx.MultiDiGraph\n",
    "        input graph\n",
    "    strict : bool\n",
    "        if False, allow nodes to be end points even if they fail all other\n",
    "        rules but have incident edges with different OSM IDs. Lets you keep\n",
    "        nodes at elbow two-way intersections, but sometimes individual blocks\n",
    "        have multiple OSM IDs within them too.\n",
    "    remove_rings : bool\n",
    "        if True, remove isolated self-contained rings that have no endpoints\n",
    "\n",
    "    Returns\n",
    "    -------\n",
    "    G : networkx.MultiDiGraph\n",
    "        topologically simplified graph, with a new `geometry` attribute on\n",
    "        each simplified edge\n",
    "    \"\"\"\n",
    "    if \"simplified\" in G.graph and G.graph[\"simplified\"]:  # pragma: no cover\n",
    "        raise Exception(\"This graph has already been simplified, cannot simplify it again.\")\n",
    "\n",
    "\n",
    "    # define edge segment attributes to sum upon edge simplification\n",
    "    attrs_to_sum = {\"length\"}\n",
    "\n",
    "    # make a copy to not mutate original graph object caller passed in\n",
    "    G = G.copy()\n",
    "    initial_node_count = len(G)\n",
    "    initial_edge_count = len(G.edges)\n",
    "    all_nodes_to_remove = []\n",
    "    all_edges_to_add = []\n",
    "\n",
    "    # generate each path that needs to be simplified\n",
    "    for path in _get_paths_to_simplify(G, strict=strict):\n",
    "\n",
    "        # add the interstitial edges we're removing to a list so we can retain\n",
    "        # their spatial geometry\n",
    "        path_attributes = dict()\n",
    "        for u, v in zip(path[:-1], path[1:]):\n",
    "\n",
    "            # there should rarely be multiple edges between interstitial nodes\n",
    "            # usually happens if OSM has duplicate ways digitized for just one\n",
    "            # street... we will keep only one of the edges (see below)\n",
    "            edge_count = G.number_of_edges(u, v)\n",
    "            if edge_count != 1:\n",
    "                utils.log(f\"Found {edge_count} edges between {u} and {v} when simplifying\")\n",
    "\n",
    "            # get edge between these nodes: if multiple edges exist between\n",
    "            # them (see above), we retain only one in the simplified graph\n",
    "            edge_data = G.edges[u, v, 0]\n",
    "            for attr in edge_data:\n",
    "                if attr in path_attributes:\n",
    "                    # if this key already exists in the dict, append it to the\n",
    "                    # value list\n",
    "                    path_attributes[attr].append(edge_data[attr])\n",
    "                else:\n",
    "                    # if this key doesn't already exist, set the value to a list\n",
    "                    # containing the one value\n",
    "                    path_attributes[attr] = [edge_data[attr]]\n",
    "\n",
    "        # consolidate the path's edge segments' attribute values\n",
    "        for attr in path_attributes:\n",
    "            if attr in attrs_to_sum:\n",
    "                # if this attribute must be summed, sum it now\n",
    "                path_attributes[attr] = sum(path_attributes[attr])\n",
    "            elif len(path_attributes[attr]) == 1:\n",
    "                # if there's only 1 unique value in this attribute list,\n",
    "                # consolidate it to the single value (the zero-th):\n",
    "                path_attributes[attr] = path_attributes[attr][0]\n",
    "            else:\n",
    "                # otherwise, if there are multiple values, keep one of each\n",
    "                path_attributes[attr] = tuple(path_attributes[attr])\n",
    "\n",
    "        # construct the new consolidated edge's geometry for this path\n",
    "        path_attributes[\"geometry\"] = LineString(\n",
    "            [Point((G.nodes[node][\"x\"], G.nodes[node][\"y\"])) for node in path]\n",
    "        )\n",
    "\n",
    "        # add the nodes and edge to their lists for processing at the end\n",
    "        all_nodes_to_remove.extend(path[1:-1])\n",
    "        all_edges_to_add.append(\n",
    "            {\"origin\": path[0], \"destination\": path[-1], \"attr_dict\": path_attributes}\n",
    "        )\n",
    "\n",
    "    # for each edge to add in the list we assembled, create a new edge between\n",
    "    # the origin and destination\n",
    "    for edge in all_edges_to_add:\n",
    "        G.add_edge(edge[\"origin\"], edge[\"destination\"], **edge[\"attr_dict\"])\n",
    "\n",
    "    # finally remove all the interstitial nodes between the new edges\n",
    "    G.remove_nodes_from(set(all_nodes_to_remove))\n",
    "\n",
    "    if remove_rings:\n",
    "        # remove any connected components that form a self-contained ring\n",
    "        # without any endpoints\n",
    "        wccs = nx.weakly_connected_components(G)\n",
    "        nodes_in_rings = set()\n",
    "        for wcc in wccs:\n",
    "            if not any(_is_endpoint(G, n) for n in wcc):\n",
    "                nodes_in_rings.update(wcc)\n",
    "        G.remove_nodes_from(nodes_in_rings)\n",
    "\n",
    "    # mark graph as having been simplified\n",
    "    G.graph[\"simplified\"] = True\n",
    "\n",
    "    return G"
   ]
  },
  {
   "cell_type": "code",
   "execution_count": null,
   "id": "31bdcdb3-0673-4451-8a0f-b961a54155c0",
   "metadata": {},
   "outputs": [],
   "source": [
    "# Simplify graph, takes in truncated buffer graph, returns the simplified trunc_buffer graph attrs_to_sum = {\"length\", \"travel_time\"}\n",
    "\n",
    "G_buff_simple = simplify_graph(G_buff)"
   ]
  },
  {
   "cell_type": "markdown",
   "id": "cc777860-035f-4542-b0fa-9ea446d46166",
   "metadata": {},
   "source": [
    "## Truncate polygon"
   ]
  },
  {
   "cell_type": "code",
   "execution_count": null,
   "id": "a54c5c91-2908-4b4b-aabe-b0a474a0e12e",
   "metadata": {},
   "outputs": [],
   "source": [
    "def graph_to_gdf(G, nodes=False, edges=False, dual=False):\n",
    "\n",
    "    crs = G.graph['crs']\n",
    "    if nodes:\n",
    "        if not G.nodes:  # pragma: no cover\n",
    "            raise ValueError(\"graph contains no nodes\")\n",
    "            \n",
    "        nodes, data = zip(*G.nodes(data=True))\n",
    "        \n",
    "        # convert node x/y attributes to Points for geometry column\n",
    "        geom = (Point(d[\"x\"], d[\"y\"]) for d in data)\n",
    "        gdf_nodes = gpd.GeoDataFrame(data, index=nodes, crs=crs, geometry=list(geom))\n",
    "        \n",
    "        if not dual:\n",
    "            gdf_nodes.index.rename(\"osmid\", inplace=True)\n",
    "        \n",
    "    if edges:\n",
    "        if not G.edges:  # pragma: no cover\n",
    "            raise ValueError(\"graph contains no edges\")\n",
    "        \n",
    "        if not dual: \n",
    "            u, v, k, data = zip(*G.edges(keys=True, data=True))\n",
    "        else: \n",
    "            u, v, data = zip(*G.edges(data=True))\n",
    "            \n",
    "        x_lookup = nx.get_node_attributes(G, \"x\")\n",
    "        y_lookup = nx.get_node_attributes(G, \"y\")\n",
    "        def make_geom(u, v, data, x= x_lookup, y= y_lookup):\n",
    "            if \"geometry\" in data:\n",
    "                return data[\"geometry\"]\n",
    "            else:\n",
    "                return LineString((Point((x[u], y[u])), Point((x[v], y[v]))))\n",
    "            \n",
    "        geom = map(make_geom, u, v, data)\n",
    "        gdf_edges = gpd.GeoDataFrame(data, crs=crs, geometry=list(geom))\n",
    "\n",
    "\n",
    "        # add u, v, key attributes as index\n",
    "        gdf_edges[\"u\"] = u\n",
    "        gdf_edges[\"v\"] = v\n",
    "        if not dual: \n",
    "            gdf_edges[\"key\"] = k\n",
    "            gdf_edges.set_index([\"u\", \"v\", \"key\"], inplace=True)\n",
    "        else: \n",
    "            gdf_edges.set_index([\"u\", \"v\"], inplace=True)\n",
    "    if nodes and edges:\n",
    "        return gdf_nodes, gdf_edges\n",
    "    elif nodes:\n",
    "        return gdf_nodes\n",
    "    elif edges:\n",
    "        return gdf_edges"
   ]
  },
  {
   "cell_type": "code",
   "execution_count": null,
   "id": "20d86d17-1c73-4996-a9e0-51fc1d5fc83f",
   "metadata": {},
   "outputs": [],
   "source": [
    "gs_nodes = graph_to_gdf(G_buff_simple, nodes=True)[[\"geometry\"]]"
   ]
  },
  {
   "cell_type": "code",
   "execution_count": null,
   "id": "8836ae0d-2897-41c8-b67f-22d6d989e9f3",
   "metadata": {},
   "outputs": [],
   "source": [
    "# find nodes to keep\n",
    "to_keep = gs_nodes.within(polygon_bbox)\n",
    "to_keep = gs_nodes[to_keep]\n",
    "nodes_outside = gs_nodes[~gs_nodes.index.isin(to_keep.index)]\n",
    "set_outside = nodes_outside.index\n",
    "print(f\"Nodes in polygon: {len(to_keep)}, nodes outside of polygon: {len(nodes_outside)}.\")"
   ]
  },
  {
   "cell_type": "code",
   "execution_count": null,
   "id": "8182c977-5a9e-4d77-9451-94e9da78af2b",
   "metadata": {},
   "outputs": [],
   "source": [
    "# Truncate by edge\n",
    "nodes_to_remove = set()\n",
    "for node in set_outside:\n",
    "    neighbors = set(G_buff_simple.successors(node)) | set(G_buff_simple.predecessors(node))\n",
    "    if neighbors.issubset(nodes_outside):\n",
    "        nodes_to_remove.add(node)"
   ]
  },
  {
   "cell_type": "code",
   "execution_count": null,
   "id": "1365d5d3-940f-42bc-9d7a-7f31f0500e4d",
   "metadata": {},
   "outputs": [],
   "source": [
    "print(f\"Nodes that have no neighbors in polygon: {len(nodes_to_remove)}.\")"
   ]
  },
  {
   "cell_type": "code",
   "execution_count": null,
   "id": "3ac08342-f367-4838-9da5-7d222cd52834",
   "metadata": {},
   "outputs": [],
   "source": [
    "G_buff_trunc = G_buff_simple.copy()\n",
    "initial = G_buff_trunc.number_of_nodes()\n",
    "G_buff_trunc.remove_nodes_from(nodes_to_remove)\n",
    "print(f\"Initial number of nodes: {initial}, after removal: {G_buff_trunc.number_of_nodes()}\")"
   ]
  },
  {
   "cell_type": "code",
   "execution_count": null,
   "id": "97a95872-147c-46b4-8549-9823ceec9599",
   "metadata": {},
   "outputs": [],
   "source": [
    "max_wcc = max(nx.weakly_connected_components(G_buff_trunc), key=len)\n",
    "G_buff_trunc = nx.subgraph(G_buff_trunc, max_wcc)\n",
    "nodes, edges = graph_to_gdf(G_buff_trunc, nodes=True, edges=True)\n",
    "print(f\"Graph has {len(nodes)} nodes and {len(edges)} edges.\")"
   ]
  },
  {
   "cell_type": "code",
   "execution_count": null,
   "id": "200d78c1-46c2-4073-a38f-03ce5c595022",
   "metadata": {},
   "outputs": [],
   "source": [
    "ax = edges.plot(figsize=(15,15), color=\"black\", alpha = 0.4)\n",
    "ax = nodes.plot(ax=ax, color=\"red\", markersize=2)"
   ]
  },
  {
   "cell_type": "code",
   "execution_count": null,
   "id": "60183903-1480-47f6-8e7f-9317924ddf69",
   "metadata": {},
   "outputs": [],
   "source": [
    "type(G_buff_trunc)"
   ]
  },
  {
   "cell_type": "markdown",
   "id": "5fa7ff6d-d484-4b7e-9a90-caa455a2134d",
   "metadata": {},
   "source": [
    "## Explore Line Graph Option"
   ]
  },
  {
   "cell_type": "code",
   "execution_count": null,
   "id": "f861e3ff-745d-49d6-a74b-95cfb88c2cee",
   "metadata": {},
   "outputs": [],
   "source": [
    "osmid_view = nx.get_edge_attributes(G_buff_trunc, \"osmid\")\n",
    "osmid_dict = {}\n",
    "for u,v in set(osmid_view.items()):\n",
    "    if u not in osmid_dict:\n",
    "        osmid_dict[(u[:2])] = v\n",
    "    else: \n",
    "        osmid_dict[(u[:2])].append(v)"
   ]
  },
  {
   "cell_type": "code",
   "execution_count": null,
   "id": "91a8db41-ace7-494d-9db4-0cc197008d36",
   "metadata": {},
   "outputs": [],
   "source": [
    "length_view = nx.get_edge_attributes(G_buff_trunc, \"length\")\n",
    "length_dict = {}\n",
    "for u,v in set(length_view.items()):\n",
    "    if u not in length_dict:\n",
    "        length_dict[(u[:2])] = v\n",
    "    else: \n",
    "        length_dict[(u[:2])].append(v)"
   ]
  },
  {
   "cell_type": "code",
   "execution_count": null,
   "id": "af406656-c992-40fe-a4a1-e3f6d0296dcb",
   "metadata": {},
   "outputs": [],
   "source": [
    "x_dict = nx.get_node_attributes(G_buff_trunc, \"x\")\n",
    "y_dict = nx.get_node_attributes(G_buff_trunc, \"y\")"
   ]
  },
  {
   "cell_type": "code",
   "execution_count": null,
   "id": "c2ae5a4b-205d-4d3c-94cb-156609bddf7f",
   "metadata": {},
   "outputs": [],
   "source": [
    "L = nx.empty_graph(0)\n",
    "LG = nx.line_graph(G_buff_trunc)\n",
    "L.graph['crs'] = 'EPSG:4326'\n",
    "for node in set(G_buff_trunc.edges()):\n",
    "    L.add_node(node, length = length_dict[node], osmids = osmid_dict[node], x = (x_dict[node[0]]+x_dict[node[1]])/2, y = (y_dict[node[0]]+y_dict[node[1]])/2, geometry=Point((x_dict[node[0]]+x_dict[node[1]])/2, (y_dict[node[0]]+y_dict[node[1]])/2))\n",
    "for u,v in set(LG.edges()):\n",
    "    L.add_edge(u[:2],v[:2])"
   ]
  },
  {
   "cell_type": "code",
   "execution_count": null,
   "id": "6d2d3955-c3a2-447a-b0a2-3160be91c9f2",
   "metadata": {},
   "outputs": [],
   "source": [
    "L_nodes, L_edges = graph_to_gdf(L, nodes=True, edges=True, dual=True)"
   ]
  },
  {
   "cell_type": "code",
   "execution_count": null,
   "id": "daaa6a66-8eba-46f3-b5b9-d38a9fcbbfa5",
   "metadata": {},
   "outputs": [],
   "source": [
    "ax = L_edges.plot(figsize=(15,15), color=\"black\", alpha = 0.4)\n",
    "ax = L_nodes.plot(ax=ax, color=\"red\", markersize=2)"
   ]
  },
  {
   "cell_type": "code",
   "execution_count": null,
   "id": "a786d734-38bc-4f24-ad08-bb8d1cd77ceb",
   "metadata": {},
   "outputs": [],
   "source": [
    "# Plot edges by some value\n",
    "# edges['highway'] = pd.Categorical(edges['highway'])\n",
    "# edges['highway_numeric'] = edges['highway'].cat.codes / 18 * 2\n",
    "# ax = edges.plot(figsize=(12,12), color=\"black\", alpha = 0.4, linewidth = edges['highway_numeric'])\n",
    "# ax = nodes.plot(ax=ax, color=\"red\", markersize=2)"
   ]
  },
  {
   "cell_type": "markdown",
   "id": "8dd6afdf-f1f2-4b08-9802-e78fa8aa6c2d",
   "metadata": {},
   "source": [
    "## Cluster nodes in large graphs"
   ]
  },
  {
   "cell_type": "code",
   "execution_count": null,
   "id": "dbe4c511-8a01-4db4-9dea-681db5f700bd",
   "metadata": {},
   "outputs": [],
   "source": [
    "G = osm.to_graph(project_gdf(nodes), project_gdf(edges), graph_type=\"networkx\", retain_all=True)"
   ]
  },
  {
   "cell_type": "code",
   "execution_count": null,
   "id": "074a5afd-6dd0-43ee-beea-45994c4a9a29",
   "metadata": {},
   "outputs": [],
   "source": [
    "proj_nodes = project_gdf(nodes)"
   ]
  },
  {
   "cell_type": "code",
   "execution_count": null,
   "id": "f96da32d-5991-495b-b7a1-4c05f58012ef",
   "metadata": {},
   "outputs": [],
   "source": [
    "def cluster_nodes(proj_gdf, bandwidth = 10):\n",
    "    cluster = proj_gdf.buffer(bandwidth).unary_union\n",
    "    cluster_gdf = gpd.GeoDataFrame({'geometry':cluster.geoms}, crs=proj_gdf.crs)\n",
    "    print(f\"Number of nodes before clustering: {len(proj_gdf)}\\n Number of nodes after clustering: {len(cluster_gdf)}\")\n",
    "    return cluster_gdf"
   ]
  },
  {
   "cell_type": "code",
   "execution_count": null,
   "id": "5379d0d9-82ea-4409-bcdf-861c29f23fa8",
   "metadata": {},
   "outputs": [],
   "source": [
    "cluster_gdf = cluster_nodes(proj_nodes)"
   ]
  },
  {
   "cell_type": "code",
   "execution_count": null,
   "id": "91ab80af-17f8-4d9d-b15e-17e40cf91f00",
   "metadata": {},
   "outputs": [],
   "source": [
    "cluster_centroid = cluster_gdf.centroid\n",
    "cluster_gdf[\"x\"] = cluster_centroid.x\n",
    "cluster_gdf[\"y\"] = cluster_centroid.y"
   ]
  },
  {
   "cell_type": "code",
   "execution_count": null,
   "id": "fd0068e8-703b-44d4-8c4c-6f8a507fd54a",
   "metadata": {},
   "outputs": [],
   "source": [
    "merged_gdf = gpd.sjoin(proj_nodes, cluster_gdf, how=\"left\", predicate=\"within\")\n",
    "merged_gdf = merged_gdf.drop(columns=\"geometry\").rename(columns={\"index_right\": \"cluster\"})"
   ]
  },
  {
   "cell_type": "code",
   "execution_count": null,
   "id": "ee8c2b69-e72f-4927-8e7e-534af5532a88",
   "metadata": {},
   "outputs": [],
   "source": [
    "merged_gdf.head()"
   ]
  },
  {
   "cell_type": "code",
   "execution_count": null,
   "id": "514cd8cb-bdcf-47a5-b108-effc4e2ad004",
   "metadata": {},
   "outputs": [],
   "source": [
    "clusters = merged_gdf.groupby(\"cluster\")"
   ]
  },
  {
   "cell_type": "code",
   "execution_count": null,
   "id": "4497f412-5ff6-4d5a-bb7e-e9f8a03183d7",
   "metadata": {},
   "outputs": [],
   "source": [
    "for cluster, cluster_nodes in clusters:\n",
    "    if len(cluster_nodes) > 1:\n",
    "    # For each cluster and their respective nodes check for sub-clusters\n",
    "        components = list(nx.weakly_connected_components(G.subgraph(list(cluster_nodes['id']))))\n",
    " \n",
    "    # If there are more than one sub-cluster, merge them into one\n",
    "    if len(components) > 1:\n",
    "        sub_label = 0\n",
    "        for sub_cluster in components:\n",
    "            sub_cluster_nodes_idx = list(cluster_nodes.index)\n",
    "            sub_cluster_centroid = proj_nodes.loc[sub_cluster_nodes_idx].unary_union.centroid\n",
    "            # Assign centroid to each sub-cluster\n",
    "            merged_gdf.loc[sub_cluster_nodes_idx, \"x\"] = sub_cluster_centroid.x\n",
    "            merged_gdf.loc[sub_cluster_nodes_idx, \"y\"] = sub_cluster_centroid.y\n",
    "            # Assign new name to each cluster\n",
    "            merged_gdf.loc[sub_cluster_nodes_idx, \"cluster\"] = f\"{cluster}-{sub_label}\"\n",
    "            sub_label += 1"
   ]
  },
  {
   "cell_type": "code",
   "execution_count": null,
   "id": "31b203b0-4d47-421e-8334-97d830f02997",
   "metadata": {},
   "outputs": [],
   "source": [
    "merged_gdf[\"cluster\"] = merged_gdf[\"cluster\"].factorize()[0]"
   ]
  },
  {
   "cell_type": "code",
   "execution_count": null,
   "id": "b8cf4475-c167-411c-9c93-1c0e4db31d9e",
   "metadata": {},
   "outputs": [],
   "source": [
    "merged_gdf.head()"
   ]
  },
  {
   "cell_type": "code",
   "execution_count": null,
   "id": "1d5b22fc-d467-428a-9208-17975a5f8585",
   "metadata": {},
   "outputs": [],
   "source": [
    "N = nx.MultiDiGraph()\n",
    "N.graph = G.graph"
   ]
  },
  {
   "cell_type": "code",
   "execution_count": null,
   "id": "1fceaada-2177-42aa-9bac-2c537c2d50fe",
   "metadata": {},
   "outputs": [],
   "source": [
    "groups = merged_gdf.groupby(\"cluster\")\n",
    "for cluster, cluster_nodes in groups:\n",
    "    node_ids = list(cluster_nodes['id'])\n",
    "    if len(node_ids) == 1:\n",
    "        N.add_node(cluster, osmid_original=node_ids[0], x=cluster_nodes[\"x\"].iloc[0], y=cluster_nodes[\"y\"].iloc[0])\n",
    "    else: \n",
    "        N.add_node(\n",
    "        cluster,\n",
    "        osmid_original=str(node_ids),\n",
    "        x=cluster_nodes[\"x\"].iloc[0],\n",
    "        y=cluster_nodes[\"y\"].iloc[0],\n",
    "        )\n"
   ]
  },
  {
   "cell_type": "code",
   "execution_count": null,
   "id": "36dd4dcd-558f-4a88-a529-c09c58f52f70",
   "metadata": {},
   "outputs": [],
   "source": [
    "gdf_edges = graph_to_gdf(G, edges=True)"
   ]
  },
  {
   "cell_type": "code",
   "execution_count": null,
   "id": "2b848c91-e643-462e-b956-e275a8fcfc4a",
   "metadata": {},
   "outputs": [],
   "source": [
    "merge_index = {}\n",
    "for k,v in zip(merged_gdf.id, merged_gdf.index):\n",
    "    merge_index[k] = v"
   ]
  },
  {
   "cell_type": "code",
   "execution_count": null,
   "id": "f2c4cbd5-0455-4908-9a60-7cf8c52fc859",
   "metadata": {},
   "outputs": [],
   "source": [
    "for u, v, k, data in G.edges(keys=True, data=True):\n",
    "    u2 = merged_gdf.loc[merge_index[u], \"cluster\"]\n",
    "    v2 = merged_gdf.loc[merge_index[v], \"cluster\"]\n",
    "\n",
    "    # only create the edge if we're not connecting the cluster\n",
    "    # to itself, but always add original self-loops\n",
    "    if (u2 != v2) or (u == v):\n",
    "        data[\"u_original\"] = u\n",
    "        data[\"v_original\"] = v\n",
    "        if \"geometry\" not in data:\n",
    "            data[\"geometry\"] = gdf_edges.loc[(u, v, k), \"geometry\"]\n",
    "        N.add_edge(u2, v2, **data)"
   ]
  },
  {
   "cell_type": "code",
   "execution_count": null,
   "id": "203e8202-684b-47db-97db-6f61d5059118",
   "metadata": {},
   "outputs": [],
   "source": [
    "for cluster, cluster_nodes in groups:\n",
    "\n",
    "    # but only if there were multiple nodes merged together,\n",
    "    # otherwise it's the same old edge as in original graph\n",
    "    if len(cluster_nodes) > 1:\n",
    "\n",
    "        # get coords of merged nodes point centroid to prepend or\n",
    "        # append to the old edge geom's coords\n",
    "        x = N.nodes[cluster][\"x\"]\n",
    "        y = N.nodes[cluster][\"y\"]\n",
    "        xy = [(x, y)]\n",
    "\n",
    "        # for each edge incident on this new merged node, update its\n",
    "        # geometry to extend to/from the new node's point coords\n",
    "        in_edges = set(N.in_edges(cluster, keys=True))\n",
    "        out_edges = set(N.out_edges(cluster, keys=True))\n",
    "        for u, v, k in in_edges | out_edges:\n",
    "            old_coords = list(N.edges[u, v, k][\"geometry\"].coords)\n",
    "            new_coords = xy + old_coords if cluster == u else old_coords + xy\n",
    "            new_geom = LineString(new_coords)\n",
    "            N.edges[u, v, k][\"geometry\"] = new_geom\n",
    "\n",
    "            # update the edge length attribute, given the new geometry\n",
    "            N.edges[u, v, k][\"length\"] = new_geom.length"
   ]
  },
  {
   "cell_type": "code",
   "execution_count": null,
   "id": "19ef7672-9dd5-4929-a6cc-9c3bff62ea19",
   "metadata": {},
   "outputs": [],
   "source": [
    "new_nodes, new_edges = graph_to_gdf(N, nodes=True, edges=True)"
   ]
  },
  {
   "cell_type": "code",
   "execution_count": null,
   "id": "f7a2f943-91c9-4809-b8c4-681bc4545f0a",
   "metadata": {},
   "outputs": [],
   "source": [
    "new_nodes = new_nodes.to_crs(4326)\n",
    "new_edges = new_edges.to_crs(4326)"
   ]
  },
  {
   "cell_type": "code",
   "execution_count": null,
   "id": "a875afbe-0ebf-43ee-a5ec-d195d6bc1382",
   "metadata": {},
   "outputs": [],
   "source": [
    "N.remove_nodes_from(list(nx.isolates(N)))"
   ]
  },
  {
   "cell_type": "code",
   "execution_count": null,
   "id": "78e543d4-c34d-43f9-96e2-8947ac69f787",
   "metadata": {},
   "outputs": [],
   "source": [
    "ax = new_edges.plot(figsize=(12,12), linewidth = 1, color=\"gray\", alpha = 0.5)\n",
    "ax = new_nodes.plot(ax=ax, color=\"black\", markersize=1)"
   ]
  },
  {
   "cell_type": "code",
   "execution_count": null,
   "id": "b250b86c-690a-4c60-b607-75734d4aa4ff",
   "metadata": {},
   "outputs": [],
   "source": [
    "buildings = osm.get_buildings()"
   ]
  },
  {
   "cell_type": "code",
   "execution_count": null,
   "id": "df905f9c-f2d3-4dda-9bc5-f2a5de428ce7",
   "metadata": {},
   "outputs": [],
   "source": [
    "proj_buildings = project_gdf(buildings)"
   ]
  },
  {
   "cell_type": "code",
   "execution_count": null,
   "id": "46ea42ee-77d9-441c-9463-46b5933652b6",
   "metadata": {},
   "outputs": [],
   "source": [
    "proj_buildings.geometry.plot()"
   ]
  },
  {
   "cell_type": "code",
   "execution_count": null,
   "id": "3850a94b-350c-4c8e-a61b-ce3bf1b79a13",
   "metadata": {},
   "outputs": [],
   "source": [
    "# Get adjacency based on spatial intersection\n",
    "building_neighbours = {}\n",
    "for i,b in zip(proj_buildings.id,proj_buildings.geometry):\n",
    "    s = proj_buildings.intersects(b.buffer(100))\n",
    "    building_neighbours[i] = proj_buildings.id[s[s].index].values"
   ]
  },
  {
   "cell_type": "code",
   "execution_count": null,
   "id": "d0b05afd-5f87-42b3-a33c-2c19cbda4eab",
   "metadata": {},
   "outputs": [],
   "source": [
    "proj_buildings['center'] = proj_buildings.geometry.centroid\n",
    "proj_buildings = proj_buildings.set_geometry(\"center\")\n",
    "buildings = proj_buildings.to_crs(4326)\n",
    "buildings['x'] = buildings.geometry.x\n",
    "buildings['y'] = buildings.geometry.y"
   ]
  },
  {
   "cell_type": "code",
   "execution_count": null,
   "id": "97098521-8d17-4451-aff1-b2a2adb59265",
   "metadata": {},
   "outputs": [],
   "source": [
    "def great_circle_vec(lat1, lng1, lat2, lng2, earth_radius=6_371_009):\n",
    "    \"\"\"\n",
    "    Calculate great-circle distances between pairs of points.\n",
    "\n",
    "    Vectorized function to calculate the great-circle distance between two\n",
    "    points' coordinates or between arrays of points' coordinates using the\n",
    "    haversine formula. Expects coordinates in decimal degrees.\n",
    "\n",
    "    Parameters\n",
    "    ----------\n",
    "    lat1 : float or numpy.array of float\n",
    "        first point's latitude coordinate\n",
    "    lng1 : float or numpy.array of float\n",
    "        first point's longitude coordinate\n",
    "    lat2 : float or numpy.array of float\n",
    "        second point's latitude coordinate\n",
    "    lng2 : float or numpy.array of float\n",
    "        second point's longitude coordinate\n",
    "    earth_radius : float\n",
    "        earth's radius in units in which distance will be returned (default is\n",
    "        meters)\n",
    "\n",
    "    Returns\n",
    "    -------\n",
    "    dist : float or numpy.array of float\n",
    "        distance from each (lat1, lng1) to each (lat2, lng2) in units of\n",
    "        earth_radius\n",
    "    \"\"\"\n",
    "    y1 = np.deg2rad(lat1)\n",
    "    y2 = np.deg2rad(lat2)\n",
    "    dy = y2 - y1\n",
    "\n",
    "    x1 = np.deg2rad(lng1)\n",
    "    x2 = np.deg2rad(lng2)\n",
    "    dx = x2 - x1\n",
    "\n",
    "    h = np.sin(dy / 2) ** 2 + np.cos(y1) * np.cos(y2) * np.sin(dx / 2) ** 2\n",
    "    h = np.minimum(1, h)  # protect against floating point errors\n",
    "    arc = 2 * np.arcsin(np.sqrt(h))\n",
    "\n",
    "    # return distance in units of earth_radius\n",
    "    return arc * earth_radius"
   ]
  },
  {
   "cell_type": "code",
   "execution_count": null,
   "id": "981c00d2-2d0e-416b-8214-a400126379be",
   "metadata": {},
   "outputs": [],
   "source": [
    "buildings = buildings.set_index('id')"
   ]
  },
  {
   "cell_type": "code",
   "execution_count": null,
   "id": "02a835b7-ad26-4ee7-9257-a9e25fa5d4fe",
   "metadata": {},
   "outputs": [],
   "source": [
    "# Get dict of nodes and their attributes\n",
    "id_to_attributes = {}\n",
    "for node in set(buildings.index):\n",
    "    id_to_attributes[node] = buildings.loc[node].to_dict()"
   ]
  },
  {
   "cell_type": "code",
   "execution_count": null,
   "id": "77abee8d-7e3d-4d97-814b-3f20f4a35738",
   "metadata": {},
   "outputs": [],
   "source": [
    "B = nx.empty_graph(0)\n",
    "B.graph['crs'] = 'EPSG:4326'\n",
    "for node in set(buildings.index):\n",
    "    B.add_node(node)"
   ]
  },
  {
   "cell_type": "code",
   "execution_count": null,
   "id": "68c09f99-296b-4250-b375-9e0a4415b1dc",
   "metadata": {},
   "outputs": [],
   "source": [
    "nx.set_node_attributes(B, id_to_attributes)"
   ]
  },
  {
   "cell_type": "code",
   "execution_count": null,
   "id": "ea6235f4-07f1-46e8-8947-18abe00b0685",
   "metadata": {},
   "outputs": [],
   "source": [
    "for node, neighbours in building_neighbours.items():\n",
    "    for neighbour in neighbours:\n",
    "        B.add_edge(node, neighbour)"
   ]
  },
  {
   "cell_type": "code",
   "execution_count": null,
   "id": "66150dd0-5b72-4ae5-ac5d-d083cef92b85",
   "metadata": {},
   "outputs": [],
   "source": [
    "id_to_x = dict(zip(buildings.index, buildings.x))\n",
    "id_to_y = dict(zip(buildings.index, buildings.y))"
   ]
  },
  {
   "cell_type": "code",
   "execution_count": null,
   "id": "ea106b29-edfc-4fa8-824a-02fcd9228599",
   "metadata": {},
   "outputs": [],
   "source": [
    "distance_between_buildings = {}\n",
    "for pair in set(B.edges()):\n",
    "    distance_between_buildings[pair] = great_circle_vec(id_to_x[pair[0]], id_to_y[pair[0]], id_to_x[pair[1]], id_to_y[pair[1]])"
   ]
  },
  {
   "cell_type": "code",
   "execution_count": null,
   "id": "bb86c793-b070-48dc-a904-eb8414409e2d",
   "metadata": {},
   "outputs": [],
   "source": [
    "nx.set_edge_attributes(B, distance_between_buildings, 'length')"
   ]
  },
  {
   "cell_type": "code",
   "execution_count": null,
   "id": "e464d63b-d440-4a59-90f8-e8d346385bef",
   "metadata": {},
   "outputs": [],
   "source": [
    "max_wcc = max(nx.connected_components(B), key=len)\n",
    "B_max = nx.subgraph(B, max_wcc)"
   ]
  },
  {
   "cell_type": "code",
   "execution_count": null,
   "id": "3e718d17-090c-4d0e-9922-349c1df75fbf",
   "metadata": {},
   "outputs": [],
   "source": [
    "nodes, edges = graph_to_gdf(B_max, nodes=True, edges=True, dual=True)"
   ]
  },
  {
   "cell_type": "code",
   "execution_count": null,
   "id": "064a631e-a889-4ef2-a30e-acb1d262a93e",
   "metadata": {},
   "outputs": [],
   "source": [
    "ax = edges.plot(figsize=(12,12), linewidth = 0.05, color=\"black\", alpha = 0.8)\n",
    "# ax = nodes.plot(ax=ax, color=\"black\", markersize=1, alpha=0.3)\n",
    "# ax = building_poly.plot(ax = ax, color='blue', alpha=1)"
   ]
  },
  {
   "cell_type": "code",
   "execution_count": null,
   "id": "2d3ff4eb-0d8a-472f-866c-604d5999c2a4",
   "metadata": {},
   "outputs": [],
   "source": []
  },
  {
   "cell_type": "code",
   "execution_count": null,
   "id": "6826e0ee-080d-4908-8f0b-e483d4b57ae3",
   "metadata": {},
   "outputs": [],
   "source": []
  },
  {
   "cell_type": "code",
   "execution_count": null,
   "id": "6fd4410a-98c8-4013-b6c7-fa008c6aa6bb",
   "metadata": {},
   "outputs": [],
   "source": []
  },
  {
   "cell_type": "code",
   "execution_count": null,
   "id": "7a29d679-707b-4973-9d1e-abf22188f164",
   "metadata": {},
   "outputs": [],
   "source": []
  },
  {
   "cell_type": "code",
   "execution_count": null,
   "id": "00d88dc9-7bb1-4ee0-b0aa-768716582dad",
   "metadata": {},
   "outputs": [],
   "source": [
    "custom_filter = {'amenity': True}\n",
    "pois = osm.get_pois(custom_filter=custom_filter)"
   ]
  },
  {
   "cell_type": "code",
   "execution_count": null,
   "id": "4c8bed41-2d23-47c2-856b-ff40460bbef7",
   "metadata": {},
   "outputs": [],
   "source": [
    "pois[pois['amenity'] == 'cafe']"
   ]
  },
  {
   "cell_type": "code",
   "execution_count": null,
   "id": "57725412-13e5-4760-9e81-762587bd1a2b",
   "metadata": {},
   "outputs": [],
   "source": [
    "ax = pois.plot(column='amenity', markersize=3, figsize=(12,12), legend=True, legend_kwds=dict(loc='upper left', ncol=5, bbox_to_anchor=(1, 1)))"
   ]
  },
  {
   "cell_type": "code",
   "execution_count": null,
   "id": "23be199f-0a3c-448f-82fe-ae1c298a8b07",
   "metadata": {},
   "outputs": [],
   "source": [
    "landuse = osm.get_landuse()\n",
    "landuse.plot(column='landuse', legend=True, figsize=(10,6))"
   ]
  },
  {
   "cell_type": "code",
   "execution_count": null,
   "id": "1ea47b12-6a0b-45f2-a265-5b03567a33aa",
   "metadata": {},
   "outputs": [],
   "source": [
    "boundaries = osm.get_boundaries(boundary_type=\"all\")\n",
    "\n",
    "boundaries['geom_type'] = boundaries.geometry.geom_type\n",
    "\n",
    "# Filter line geometries (something like following should work)\n",
    "boundaries_lines = boundaries.loc[boundaries[\"geom_type\"].isin([\"LineString\", \"MultiLineString\"])]\n"
   ]
  },
  {
   "cell_type": "code",
   "execution_count": null,
   "id": "e44a26cb-8b8d-4bac-8964-1440719356b3",
   "metadata": {},
   "outputs": [],
   "source": [
    "tp_zone = boundaries[boundaries['name'] == 'Tanjong Pagar GRC'].to_json()"
   ]
  },
  {
   "cell_type": "code",
   "execution_count": null,
   "id": "48dae4fe-80f8-4b97-b252-34bbcc93be1f",
   "metadata": {},
   "outputs": [],
   "source": [
    "with open('tpzone.geojson', 'w') as outfile:\n",
    "    outfile.write(tp_zone)"
   ]
  },
  {
   "cell_type": "code",
   "execution_count": null,
   "id": "22a71e78-b772-4899-9222-c145e73e93ae",
   "metadata": {},
   "outputs": [],
   "source": [
    "bbox_geom = boundaries[boundaries['name'] == 'Tanjong Pagar GRC']['geometry'].values[0]"
   ]
  },
  {
   "cell_type": "code",
   "execution_count": null,
   "id": "b8fb8d6b-7d72-4a70-b742-9790620e617c",
   "metadata": {},
   "outputs": [],
   "source": [
    "bbox_geom"
   ]
  },
  {
   "cell_type": "code",
   "execution_count": null,
   "id": "9adba2ba-8d1e-4c09-9573-cda6d9bb182e",
   "metadata": {},
   "outputs": [],
   "source": [
    "type(boundaries[boundaries['name'] == 'Tanjong Pagar GRC']['geometry'])"
   ]
  },
  {
   "cell_type": "code",
   "execution_count": null,
   "id": "ac49e078-eae2-4cbc-a2fd-7a60feaae63c",
   "metadata": {},
   "outputs": [],
   "source": [
    "osm2 = pyrosm.OSM(fp, bounding_box=bbox_geom)"
   ]
  },
  {
   "cell_type": "code",
   "execution_count": null,
   "id": "61ec3d66-e84f-466b-8010-f8e625f0d140",
   "metadata": {},
   "outputs": [],
   "source": [
    "tp = osm2.get_buildings()"
   ]
  },
  {
   "cell_type": "code",
   "execution_count": null,
   "id": "c7792521-66e6-40e8-9e77-6267fdfb2eee",
   "metadata": {},
   "outputs": [],
   "source": [
    "tp.building"
   ]
  },
  {
   "cell_type": "code",
   "execution_count": null,
   "id": "762ca5b5-6e7f-4e2c-b685-63209cf17a52",
   "metadata": {},
   "outputs": [],
   "source": [
    "ax = tp.plot(column=\"building\", figsize=(12,12), legend=True, legend_kwds=dict(loc='upper left', ncol=3, bbox_to_anchor=(1, 1)))\n"
   ]
  },
  {
   "cell_type": "code",
   "execution_count": null,
   "id": "988dfd99-8308-46cb-afc5-54caee1bbc01",
   "metadata": {},
   "outputs": [],
   "source": [
    "walk = osm2.get_network(\"walking\")\n",
    "walk.plot(color=\"k\", figsize=(12,12), lw=0.7, alpha=0.6)"
   ]
  },
  {
   "cell_type": "code",
   "execution_count": null,
   "id": "919c2308-c122-44f0-9480-3462672fa43b",
   "metadata": {},
   "outputs": [],
   "source": []
  }
 ],
 "metadata": {
  "kernelspec": {
   "display_name": "Python [conda env:urbanity] *",
   "language": "python",
   "name": "conda-env-urbanity-py"
  },
  "language_info": {
   "codemirror_mode": {
    "name": "ipython",
    "version": 3
   },
   "file_extension": ".py",
   "mimetype": "text/x-python",
   "name": "python",
   "nbconvert_exporter": "python",
   "pygments_lexer": "ipython3",
   "version": "3.9.13"
  }
 },
 "nbformat": 4,
 "nbformat_minor": 5
}
