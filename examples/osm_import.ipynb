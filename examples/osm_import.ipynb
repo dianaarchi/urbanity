{
 "cells": [
  {
   "cell_type": "markdown",
   "id": "361720e3-7366-4763-b10e-6be66f600c86",
   "metadata": {},
   "source": [
    "## Import OSM Data into Python"
   ]
  },
  {
   "cell_type": "code",
   "execution_count": 46,
   "id": "afe60323-9afd-48b1-8ee4-bacbb7d3ce25",
   "metadata": {},
   "outputs": [],
   "source": [
    "import requests\n",
    "import json\n",
    "import re\n",
    "import os\n",
    "import geopandas as gpd\n",
    "import fiona\n",
    "import numpy as np\n",
    "from typing import Optional\n",
    "from shapely.ops import cascaded_union\n",
    "from ipyleaflet import Map, GeoJSON, GeoData, basemaps, basemap_to_tiles, Icon, Marker, LayersControl, LayerGroup, DrawControl, FullScreenControl, MeasureControl, ScaleControl, LocalTileLayer"
   ]
  },
  {
   "cell_type": "code",
   "execution_count": 2,
   "id": "9269a93a-0afb-4a68-8450-7290462c3e6f",
   "metadata": {},
   "outputs": [],
   "source": [
    "data_path = os.path.join(os.getcwd(), \"..\", \"data/country.json\")"
   ]
  },
  {
   "cell_type": "code",
   "execution_count": 3,
   "id": "2dbafbca-e948-4abc-a366-8c527feef826",
   "metadata": {},
   "outputs": [],
   "source": [
    "with open(data_path) as json_file:\n",
    "    my_dict = json.load(json_file)"
   ]
  },
  {
   "cell_type": "code",
   "execution_count": 4,
   "id": "aa7e6145-9b7f-4f80-bbcb-15d6828a4a11",
   "metadata": {},
   "outputs": [],
   "source": [
    "# m = Map(basemap = basemaps.CartoDB.PositronNoLabels, center=[1.356904, 103.811978], zoom = 11, scroll_wheel_zoom=False)\n",
    "# m.layout.height = \"400px\"\n",
    "# m.layout.width = \"600px\"\n",
    "# m.attribution_control = False\n",
    "\n",
    "# geo_data = GeoData(geo_dataframe = singapore_gdf,\n",
    "#                    style={'color': 'black', 'fillColor': '#3366cc', 'opacity':0.5, 'weight':1.9, 'dashArray':'2', 'fillOpacity':0.6},\n",
    "#                    hover_style={'fillColor': 'red' , 'fillOpacity': 0.2},\n",
    "#                    name = 'Countries')\n",
    "\n",
    "# m.add_layer(geo_data)\n",
    "# m.add_control(LayersControl())\n",
    "\n",
    "# m"
   ]
  },
  {
   "cell_type": "code",
   "execution_count": 5,
   "id": "13b43496-ba16-47be-beb4-74495453e759",
   "metadata": {},
   "outputs": [
    {
     "data": {
      "text/plain": [
       "[1.357107, 103.8194992]"
      ]
     },
     "execution_count": 5,
     "metadata": {},
     "output_type": "execute_result"
    }
   ],
   "source": [
    "my_dict['Singapore']['coords']"
   ]
  },
  {
   "cell_type": "code",
   "execution_count": 6,
   "id": "44edc7e6-afbe-4d71-a9cc-04612a13269e",
   "metadata": {},
   "outputs": [
    {
     "data": {
      "application/vnd.jupyter.widget-view+json": {
       "model_id": "840a200c9ceb4883af5e16d6ce34be38",
       "version_major": 2,
       "version_minor": 0
      },
      "text/plain": [
       "Map(center=[1.357107, 103.8194992], controls=(ZoomControl(options=['position', 'zoom_in_text', 'zoom_in_title'…"
      ]
     },
     "metadata": {},
     "output_type": "display_data"
    }
   ],
   "source": [
    "m = Map(basemap = basemaps.CartoDB.PositronNoLabels, center=my_dict['Singapore']['coords'], zoom=11, scroll_wheel_zoom=False)\n",
    "m.layout.height = \"400px\"\n",
    "m.layout.width = \"600px\"\n",
    "m.attribution_control = False\n",
    "m"
   ]
  },
  {
   "cell_type": "markdown",
   "id": "556b0eeb-69cf-4b23-a7e7-1cd2f0b57f12",
   "metadata": {},
   "source": [
    "## Add Map Controls"
   ]
  },
  {
   "cell_type": "code",
   "execution_count": 7,
   "id": "b3240f0a-d2a6-4846-a29c-f6e1b3deb63d",
   "metadata": {},
   "outputs": [],
   "source": [
    "m.add_control(FullScreenControl())\n",
    "m.add_control(LayersControl(position='topright'))\n",
    "            \n",
    "# Configure draw control\n",
    "m.add_control(DrawControl(rectangle={'shapeOptions':{'color':\"#a52a2a\"}},\n",
    "                          polyline = {\"shapeOptions\": {\"color\": \"#6bc2e5\", \"weight\": 2, \"opacity\": 1.0}},\n",
    "                          polygon = {\"shapeOptions\": {\"fillColor\": \"#eba134\", \"color\": \"#000000\", \"fillOpacity\": 0.5, \"weight\":2},\n",
    "                                     \"drawError\": {\"color\": \"#dd253b\", \"message\": \"Delete and redraw\"},\n",
    "                                     \"allowIntersection\": False},\n",
    "                         )\n",
    "             )\n",
    "\n",
    "m.add_control(ScaleControl(position='bottomleft'))"
   ]
  },
  {
   "cell_type": "markdown",
   "id": "7ba8d296-cf82-4be8-bbd9-c437eab12f69",
   "metadata": {},
   "source": [
    "## Add Basemaps"
   ]
  },
  {
   "cell_type": "code",
   "execution_count": 8,
   "id": "667731fe-aa20-481f-b57b-739bda2362c5",
   "metadata": {},
   "outputs": [],
   "source": [
    "m.add_layer(basemap_to_tiles(basemaps.CartoDB.VoyagerNoLabels))\n",
    "m.add_layer(LocalTileLayer(path=\"http://mt1.google.com/vt/lyrs=m&x={x}&y={y}&z={z}\", name = 'Google Streets'))\n",
    "m.add_layer(LocalTileLayer(path=\"http://mt1.google.com/vt/lyrs=s&x={x}&y={y}&z={z}\", name = 'Google Hybrid'))\n",
    "m.add_layer(LocalTileLayer(path=\"http://mt1.google.com/vt/lyrs=p&x={x}&y={y}&z={z}\", name = 'Google Terrain'))"
   ]
  },
  {
   "cell_type": "code",
   "execution_count": 9,
   "id": "fc803b19-28bb-47d8-8479-1aaeb851d669",
   "metadata": {},
   "outputs": [
    {
     "data": {
      "application/vnd.jupyter.widget-view+json": {
       "model_id": "840a200c9ceb4883af5e16d6ce34be38",
       "version_major": 2,
       "version_minor": 0
      },
      "text/plain": [
       "Map(center=[1.357107, 103.8194992], controls=(ZoomControl(options=['position', 'zoom_in_text', 'zoom_in_title'…"
      ]
     },
     "metadata": {},
     "output_type": "display_data"
    }
   ],
   "source": [
    "m"
   ]
  },
  {
   "cell_type": "markdown",
   "id": "d0e1d8e6-16c1-4d72-ba9f-7e4570927ce3",
   "metadata": {},
   "source": [
    "## Find Bounding Box"
   ]
  },
  {
   "cell_type": "code",
   "execution_count": 21,
   "id": "212d4ece-d2ec-44c0-8bdb-65b0e5000c18",
   "metadata": {},
   "outputs": [],
   "source": [
    "def draw_bbox(m: Map):\n",
    "    print('Please draw a bounding box on the map')\n",
    "    display(m)"
   ]
  },
  {
   "cell_type": "code",
   "execution_count": 22,
   "id": "3947e3f9-ec59-45c5-ab05-9ff7e305c367",
   "metadata": {},
   "outputs": [
    {
     "name": "stdout",
     "output_type": "stream",
     "text": [
      "Please draw a bounding box on the map\n"
     ]
    },
    {
     "data": {
      "application/vnd.jupyter.widget-view+json": {
       "model_id": "840a200c9ceb4883af5e16d6ce34be38",
       "version_major": 2,
       "version_minor": 0
      },
      "text/plain": [
       "Map(bottom=260367.0, center=[1.357107, 103.8194992], controls=(ZoomControl(options=['position', 'zoom_in_text'…"
      ]
     },
     "metadata": {},
     "output_type": "display_data"
    }
   ],
   "source": [
    "draw_bbox(m)"
   ]
  },
  {
   "cell_type": "code",
   "execution_count": 42,
   "id": "bf6bfc6c-fe75-4730-9224-3fb06ec85cfa",
   "metadata": {},
   "outputs": [
    {
     "data": {
      "text/plain": [
       "[]"
      ]
     },
     "execution_count": 42,
     "metadata": {},
     "output_type": "execute_result"
    }
   ],
   "source": [
    "m.controls[3].data"
   ]
  },
  {
   "cell_type": "code",
   "execution_count": 12,
   "id": "4cca505b-badb-495f-b67b-0ebb2c6c0eb3",
   "metadata": {},
   "outputs": [],
   "source": [
    "def get_bbox(m: Map):\n",
    "    t_index = None\n",
    "    for i, control in enumerate(m.controls):\n",
    "        if isinstance(control, DrawControl):\n",
    "            t_index = i\n",
    "    if t_index is None:\n",
    "        raise Exception('No draw control object found for map.')\n",
    "    \n",
    "    lon_min, lat_min, lon_max, lat_max = float('inf'), float('inf'), float('-inf'), float('-inf')\n",
    "    try:\n",
    "        for lon,lat in [*m.controls[3].data[0]['geometry']['coordinates'][0]]:\n",
    "            lon_min = min(lon_min, lon)\n",
    "            lat_min = min(lat_min, lat)\n",
    "            lon_max = max(lon_max, lon)\n",
    "            lat_max = max(lat_max, lat)\n",
    "        m.controls[t_index].clear()\n",
    "        return ([lat_min, lon_min, lat_max, lon_max])\n",
    "        \n",
    "    except (IndexError, TypeError):\n",
    "        print('Please draw a bounding box with the rectangle, polygon, or polyline tool on the map.')\n",
    "    "
   ]
  },
  {
   "cell_type": "code",
   "execution_count": 13,
   "id": "e0495ad0-10e3-42e9-8c0a-c59a3c6693bb",
   "metadata": {},
   "outputs": [
    {
     "name": "stdout",
     "output_type": "stream",
     "text": [
      "Please draw a bounding box with the rectangle, polygon, or polyline tool on the map.\n"
     ]
    }
   ],
   "source": [
    "bbox = get_bbox(m)"
   ]
  },
  {
   "cell_type": "code",
   "execution_count": 14,
   "id": "12fa9ae5-549b-4c63-a345-b3612de4717e",
   "metadata": {},
   "outputs": [],
   "source": [
    "bbox"
   ]
  },
  {
   "cell_type": "markdown",
   "id": "bde20090-1bf3-4bf4-a2e7-af175c8e45a6",
   "metadata": {},
   "source": [
    "## Add POI Data into Layer"
   ]
  },
  {
   "cell_type": "code",
   "execution_count": 15,
   "id": "2130b9f8-8a6d-4c52-af48-318837bb5a6e",
   "metadata": {},
   "outputs": [
    {
     "ename": "FileNotFoundError",
     "evalue": "[Errno 2] No such file or directory: 'country.json'",
     "output_type": "error",
     "traceback": [
      "\u001b[0;31m---------------------------------------------------------------------------\u001b[0m",
      "\u001b[0;31mFileNotFoundError\u001b[0m                         Traceback (most recent call last)",
      "Input \u001b[0;32mIn [15]\u001b[0m, in \u001b[0;36m<cell line: 1>\u001b[0;34m()\u001b[0m\n\u001b[0;32m----> 1\u001b[0m \u001b[38;5;28;01mwith\u001b[39;00m \u001b[38;5;28;43mopen\u001b[39;49m\u001b[43m(\u001b[49m\u001b[38;5;124;43m'\u001b[39;49m\u001b[38;5;124;43mcountry.json\u001b[39;49m\u001b[38;5;124;43m'\u001b[39;49m\u001b[43m,\u001b[49m\u001b[43m \u001b[49m\u001b[38;5;124;43m'\u001b[39;49m\u001b[38;5;124;43mr\u001b[39;49m\u001b[38;5;124;43m'\u001b[39;49m\u001b[43m)\u001b[49m \u001b[38;5;28;01mas\u001b[39;00m f:\n\u001b[1;32m      2\u001b[0m   countries \u001b[38;5;241m=\u001b[39m json\u001b[38;5;241m.\u001b[39mload(f)\n\u001b[1;32m      4\u001b[0m countries[\u001b[38;5;124m'\u001b[39m\u001b[38;5;124mSingapore\u001b[39m\u001b[38;5;124m'\u001b[39m][\u001b[38;5;124m'\u001b[39m\u001b[38;5;124mA2\u001b[39m\u001b[38;5;124m'\u001b[39m]\n",
      "\u001b[0;31mFileNotFoundError\u001b[0m: [Errno 2] No such file or directory: 'country.json'"
     ]
    }
   ],
   "source": [
    "with open('country.json', 'r') as f:\n",
    "  countries = json.load(f)\n",
    "\n",
    "countries['Singapore']['A2']"
   ]
  },
  {
   "cell_type": "code",
   "execution_count": null,
   "id": "3dff65c6-532d-4d1a-8432-9ba31a5f48cc",
   "metadata": {},
   "outputs": [],
   "source": [
    "overpass_url = \"http://overpass-api.de/api/interpreter\"\n",
    "\n",
    "def extract_osm_with_bb(bbox: Optional[list] = None, country_name: Optional[str] = None):\n",
    "    \n",
    "    if bbox is None:\n",
    "        overpass_query = f\"\"\"\n",
    "        [out:json];\n",
    "        area[\"ISO3166-1\"={countries[country_name]['A2']}][admin_level=2];\n",
    "        node[\"amenity\"=\"clinic\"](area);\n",
    "        out center;\n",
    "        \"\"\"\n",
    "    \n",
    "    else:\n",
    "        overpass_query = '[out:json]; node[\"amenity\"=\"clinic\"]' + str(tuple(bbox))+ '; out center;'\n",
    "        \n",
    "    response = requests.get(overpass_url, \n",
    "                            params={'data': overpass_query})\n",
    "    \n",
    "    data = response.json()\n",
    "    return data['elements']\n",
    "\n",
    "poi_data = extract_osm_with_bb(bbox = bbox, country_name = 'Singapore')"
   ]
  },
  {
   "cell_type": "markdown",
   "id": "600483bd-f852-498a-9e65-76a532a49d5a",
   "metadata": {},
   "source": [
    "## Import with Geojson "
   ]
  },
  {
   "cell_type": "code",
   "execution_count": 10,
   "id": "adb88146-0eef-4103-b430-447708030fee",
   "metadata": {},
   "outputs": [],
   "source": [
    "def project_gdf(gdf):\n",
    "    mean_longitude = gdf[\"geometry\"].representative_point().x.mean()\n",
    "\n",
    "    # Compute UTM crs\n",
    "    utm_zone = int(np.floor((mean_longitude + 180) / 6) + 1)\n",
    "    utm_crs = f\"+proj=utm +zone={utm_zone} +ellps=WGS84 +datum=WGS84 +units=m +no_defs\"\n",
    "\n",
    "    # project the GeoDataFrame to the UTM CRS\n",
    "    gdf_proj = gdf.to_crs(utm_crs)\n",
    "    print(f\"Projected to {gdf_proj.crs}\")\n",
    "    \n",
    "    return gdf_proj"
   ]
  },
  {
   "cell_type": "code",
   "execution_count": 46,
   "id": "72db25f0-b3eb-4247-807d-26239fd014d6",
   "metadata": {},
   "outputs": [],
   "source": [
    "singapore_gdf = gpd.read_file(\"./sg_map\").to_crs('epsg:4326')"
   ]
  },
  {
   "cell_type": "code",
   "execution_count": 47,
   "id": "846d3bce-3ab3-4509-be27-51b0010075e5",
   "metadata": {},
   "outputs": [],
   "source": [
    "london_gdf = gpd.read_file(\"../data/london_map\").to_crs('epsg:4326')"
   ]
  },
  {
   "cell_type": "code",
   "execution_count": 30,
   "id": "e7db4099-8eba-4251-802d-40d50c8bbfbb",
   "metadata": {},
   "outputs": [
    {
     "name": "stdout",
     "output_type": "stream",
     "text": [
      "Projected to +proj=utm +zone=30 +ellps=WGS84 +datum=WGS84 +units=m +no_defs +type=crs\n"
     ]
    }
   ],
   "source": [
    "# proj_london = project_gdf(london_gdf)\n",
    "# london_boundary = proj_london.geometry.buffer(1).unary_union\n",
    "# london = gpd.GeoDataFrame(index=[0], crs = proj_london.crs, geometry=[london_boundary])\n",
    "# london = london.to_crs(4236)"
   ]
  },
  {
   "cell_type": "code",
   "execution_count": 64,
   "id": "9ff0e1ae-312b-4715-a866-c5879b68af17",
   "metadata": {},
   "outputs": [],
   "source": [
    "london = london_gdf[london_gdf['DISTRICT']==\"City and County of the City of London\"]"
   ]
  },
  {
   "cell_type": "code",
   "execution_count": 65,
   "id": "cc69b4b2-e5a2-4649-8eae-cfe92c709b06",
   "metadata": {},
   "outputs": [
    {
     "data": {
      "text/html": [
       "<div>\n",
       "<style scoped>\n",
       "    .dataframe tbody tr th:only-of-type {\n",
       "        vertical-align: middle;\n",
       "    }\n",
       "\n",
       "    .dataframe tbody tr th {\n",
       "        vertical-align: top;\n",
       "    }\n",
       "\n",
       "    .dataframe thead th {\n",
       "        text-align: right;\n",
       "    }\n",
       "</style>\n",
       "<table border=\"1\" class=\"dataframe\">\n",
       "  <thead>\n",
       "    <tr style=\"text-align: right;\">\n",
       "      <th></th>\n",
       "      <th>NAME</th>\n",
       "      <th>GSS_CODE</th>\n",
       "      <th>DISTRICT</th>\n",
       "      <th>LAGSSCODE</th>\n",
       "      <th>HECTARES</th>\n",
       "      <th>NONLD_AREA</th>\n",
       "      <th>geometry</th>\n",
       "    </tr>\n",
       "  </thead>\n",
       "  <tbody>\n",
       "    <tr>\n",
       "      <th>632</th>\n",
       "      <td>Castle Baynard</td>\n",
       "      <td>E05009297</td>\n",
       "      <td>City and County of the City of London</td>\n",
       "      <td>E09000001</td>\n",
       "      <td>314.943</td>\n",
       "      <td>24.546</td>\n",
       "      <td>POLYGON ((-0.10847 51.50989, -0.10916 51.50987...</td>\n",
       "    </tr>\n",
       "  </tbody>\n",
       "</table>\n",
       "</div>"
      ],
      "text/plain": [
       "               NAME   GSS_CODE                               DISTRICT  \\\n",
       "632  Castle Baynard  E05009297  City and County of the City of London   \n",
       "\n",
       "     LAGSSCODE  HECTARES  NONLD_AREA  \\\n",
       "632  E09000001   314.943      24.546   \n",
       "\n",
       "                                              geometry  \n",
       "632  POLYGON ((-0.10847 51.50989, -0.10916 51.50987...  "
      ]
     },
     "execution_count": 65,
     "metadata": {},
     "output_type": "execute_result"
    }
   ],
   "source": [
    "london"
   ]
  },
  {
   "cell_type": "code",
   "execution_count": 66,
   "id": "749bca97-5d37-4507-93a3-93eb92bef5e9",
   "metadata": {},
   "outputs": [],
   "source": [
    "london_json = london.to_json()"
   ]
  },
  {
   "cell_type": "code",
   "execution_count": 67,
   "id": "013d23d2-67a3-4b52-b2cd-54ec15ae0b6e",
   "metadata": {},
   "outputs": [],
   "source": [
    "with open('./data/london.geojson', 'w') as outfile:\n",
    "    outfile.write(london_json)"
   ]
  },
  {
   "cell_type": "code",
   "execution_count": 47,
   "id": "724bf4a8-d8aa-436e-a46e-7ab27d3ee6ae",
   "metadata": {},
   "outputs": [],
   "source": [
    "tp_zone = singapore_gdf[(singapore_gdf['LU_DESC'] == \"RESIDENTIAL\") & (singapore_gdf[\"SHAPE_Area\"] == 5682579.85451)]"
   ]
  },
  {
   "cell_type": "code",
   "execution_count": 52,
   "id": "7e826522-a5a9-4d1b-8421-9e1cf5a6ed60",
   "metadata": {},
   "outputs": [
    {
     "data": {
      "text/plain": [
       "geopandas.geodataframe.GeoDataFrame"
      ]
     },
     "execution_count": 52,
     "metadata": {},
     "output_type": "execute_result"
    }
   ],
   "source": [
    "type(tp_zone)"
   ]
  },
  {
   "cell_type": "code",
   "execution_count": null,
   "id": "4136e8b7-3c18-4d79-8f35-c62d20a39918",
   "metadata": {},
   "outputs": [],
   "source": [
    "gpd.GeoDataFrame"
   ]
  },
  {
   "cell_type": "code",
   "execution_count": 59,
   "id": "faa234a3-687d-4487-a2ee-9de7c974909d",
   "metadata": {},
   "outputs": [
    {
     "data": {
      "text/plain": [
       "shapely.geometry.polygon.Polygon"
      ]
     },
     "execution_count": 59,
     "metadata": {},
     "output_type": "execute_result"
    }
   ],
   "source": [
    "type(tp_zone.geometry.values[0])"
   ]
  },
  {
   "cell_type": "code",
   "execution_count": null,
   "id": "0a5ecb4e-3aaa-46e1-84b7-932afde226ed",
   "metadata": {},
   "outputs": [],
   "source": [
    "with open('geojson_string.json', 'w') as outfile:\n",
    "    outfile.write(geojson_string)"
   ]
  },
  {
   "cell_type": "code",
   "execution_count": 60,
   "id": "41088cea-fd46-4012-acff-2a5ffd9ceca9",
   "metadata": {},
   "outputs": [],
   "source": [
    "with open('geojson_string.json') as json_file:\n",
    "    my_dict = json.load(json_file)"
   ]
  },
  {
   "cell_type": "code",
   "execution_count": 62,
   "id": "42ba97ef-1f7d-4821-aed1-40c633804b3b",
   "metadata": {},
   "outputs": [],
   "source": [
    "with open() as json_file:\n",
    "    my_dict = json.load(json_file)"
   ]
  },
  {
   "cell_type": "code",
   "execution_count": 86,
   "id": "c0ccc292-2160-4ba9-abbb-8818968e96ff",
   "metadata": {},
   "outputs": [
    {
     "data": {
      "text/html": [
       "<div>\n",
       "<style scoped>\n",
       "    .dataframe tbody tr th:only-of-type {\n",
       "        vertical-align: middle;\n",
       "    }\n",
       "\n",
       "    .dataframe tbody tr th {\n",
       "        vertical-align: top;\n",
       "    }\n",
       "\n",
       "    .dataframe thead th {\n",
       "        text-align: right;\n",
       "    }\n",
       "</style>\n",
       "<table border=\"1\" class=\"dataframe\">\n",
       "  <thead>\n",
       "    <tr style=\"text-align: right;\">\n",
       "      <th></th>\n",
       "      <th>OBJECTID</th>\n",
       "      <th>OID_1</th>\n",
       "      <th>LU_DESC</th>\n",
       "      <th>LU_TEXT</th>\n",
       "      <th>GPR</th>\n",
       "      <th>WHI_Q_MX</th>\n",
       "      <th>GPR_B_MN</th>\n",
       "      <th>INC_CRC</th>\n",
       "      <th>FMEL_UPD_D</th>\n",
       "      <th>X_ADDR</th>\n",
       "      <th>Y_ADDR</th>\n",
       "      <th>SHAPE_Leng</th>\n",
       "      <th>SHAPE_Area</th>\n",
       "      <th>geometry</th>\n",
       "    </tr>\n",
       "  </thead>\n",
       "  <tbody>\n",
       "    <tr>\n",
       "      <th>0</th>\n",
       "      <td>1</td>\n",
       "      <td>0</td>\n",
       "      <td>UTILITY</td>\n",
       "      <td>U</td>\n",
       "      <td>EVA</td>\n",
       "      <td>0.0</td>\n",
       "      <td>0.0</td>\n",
       "      <td>BF0C37311F485B64</td>\n",
       "      <td>2014-06-23</td>\n",
       "      <td>23226.8650</td>\n",
       "      <td>37189.3295</td>\n",
       "      <td>1474.502127</td>\n",
       "      <td>70314.109927</td>\n",
       "      <td>POLYGON ((23311.893 37295.503, 23321.050 37278...</td>\n",
       "    </tr>\n",
       "    <tr>\n",
       "      <th>1</th>\n",
       "      <td>2</td>\n",
       "      <td>0</td>\n",
       "      <td>OPEN SPACE</td>\n",
       "      <td>None</td>\n",
       "      <td>EVA</td>\n",
       "      <td>0.0</td>\n",
       "      <td>0.0</td>\n",
       "      <td>DD6E9ED08FF9F421</td>\n",
       "      <td>2014-06-23</td>\n",
       "      <td>24627.6556</td>\n",
       "      <td>36234.1907</td>\n",
       "      <td>813.738237</td>\n",
       "      <td>37851.220985</td>\n",
       "      <td>POLYGON ((24653.610 36352.795, 24724.302 36291...</td>\n",
       "    </tr>\n",
       "    <tr>\n",
       "      <th>2</th>\n",
       "      <td>3</td>\n",
       "      <td>0</td>\n",
       "      <td>OPEN SPACE</td>\n",
       "      <td>None</td>\n",
       "      <td>EVA</td>\n",
       "      <td>0.0</td>\n",
       "      <td>0.0</td>\n",
       "      <td>9A88CBC8A00238DF</td>\n",
       "      <td>2014-06-23</td>\n",
       "      <td>28064.7767</td>\n",
       "      <td>35926.0034</td>\n",
       "      <td>771.441679</td>\n",
       "      <td>12284.431868</td>\n",
       "      <td>POLYGON ((28204.673 35972.492, 28204.150 35972...</td>\n",
       "    </tr>\n",
       "    <tr>\n",
       "      <th>3</th>\n",
       "      <td>4</td>\n",
       "      <td>0</td>\n",
       "      <td>OPEN SPACE</td>\n",
       "      <td>None</td>\n",
       "      <td>EVA</td>\n",
       "      <td>0.0</td>\n",
       "      <td>0.0</td>\n",
       "      <td>2481817E30624F97</td>\n",
       "      <td>2014-06-23</td>\n",
       "      <td>26176.9607</td>\n",
       "      <td>35947.5340</td>\n",
       "      <td>1686.764546</td>\n",
       "      <td>151032.767607</td>\n",
       "      <td>POLYGON ((26136.730 35673.236, 26138.818 35678...</td>\n",
       "    </tr>\n",
       "    <tr>\n",
       "      <th>4</th>\n",
       "      <td>5</td>\n",
       "      <td>0</td>\n",
       "      <td>ROAD</td>\n",
       "      <td>None</td>\n",
       "      <td>None</td>\n",
       "      <td>0.0</td>\n",
       "      <td>0.0</td>\n",
       "      <td>C56C3E0EF8A3E0CF</td>\n",
       "      <td>2014-06-23</td>\n",
       "      <td>28179.4427</td>\n",
       "      <td>35988.4606</td>\n",
       "      <td>192.493764</td>\n",
       "      <td>1162.365423</td>\n",
       "      <td>POLYGON ((28224.064 35984.721, 28204.673 35972...</td>\n",
       "    </tr>\n",
       "    <tr>\n",
       "      <th>...</th>\n",
       "      <td>...</td>\n",
       "      <td>...</td>\n",
       "      <td>...</td>\n",
       "      <td>...</td>\n",
       "      <td>...</td>\n",
       "      <td>...</td>\n",
       "      <td>...</td>\n",
       "      <td>...</td>\n",
       "      <td>...</td>\n",
       "      <td>...</td>\n",
       "      <td>...</td>\n",
       "      <td>...</td>\n",
       "      <td>...</td>\n",
       "      <td>...</td>\n",
       "    </tr>\n",
       "    <tr>\n",
       "      <th>111520</th>\n",
       "      <td>111521</td>\n",
       "      <td>0</td>\n",
       "      <td>RESIDENTIAL</td>\n",
       "      <td>None</td>\n",
       "      <td>1.4</td>\n",
       "      <td>0.0</td>\n",
       "      <td>0.0</td>\n",
       "      <td>7B395DFEDEDA6027</td>\n",
       "      <td>2014-06-23</td>\n",
       "      <td>36353.2709</td>\n",
       "      <td>33149.3208</td>\n",
       "      <td>111.846016</td>\n",
       "      <td>491.765336</td>\n",
       "      <td>POLYGON ((36366.563 33129.680, 36356.408 33127...</td>\n",
       "    </tr>\n",
       "    <tr>\n",
       "      <th>111521</th>\n",
       "      <td>111522</td>\n",
       "      <td>0</td>\n",
       "      <td>RESIDENTIAL</td>\n",
       "      <td>None</td>\n",
       "      <td>1.4</td>\n",
       "      <td>0.0</td>\n",
       "      <td>0.0</td>\n",
       "      <td>FAD02777AEE960DC</td>\n",
       "      <td>2014-06-23</td>\n",
       "      <td>36479.7057</td>\n",
       "      <td>33368.9370</td>\n",
       "      <td>76.295655</td>\n",
       "      <td>279.274408</td>\n",
       "      <td>POLYGON ((36495.235 33366.739, 36495.176 33366...</td>\n",
       "    </tr>\n",
       "    <tr>\n",
       "      <th>111522</th>\n",
       "      <td>111523</td>\n",
       "      <td>0</td>\n",
       "      <td>RESIDENTIAL</td>\n",
       "      <td>None</td>\n",
       "      <td>1.4</td>\n",
       "      <td>0.0</td>\n",
       "      <td>0.0</td>\n",
       "      <td>D3D09E2FF834B910</td>\n",
       "      <td>2014-06-23</td>\n",
       "      <td>36490.5899</td>\n",
       "      <td>33342.9947</td>\n",
       "      <td>71.612146</td>\n",
       "      <td>210.860206</td>\n",
       "      <td>POLYGON ((36505.941 33342.008, 36505.889 33341...</td>\n",
       "    </tr>\n",
       "    <tr>\n",
       "      <th>111523</th>\n",
       "      <td>111524</td>\n",
       "      <td>0</td>\n",
       "      <td>RESIDENTIAL</td>\n",
       "      <td>None</td>\n",
       "      <td>1.4</td>\n",
       "      <td>0.0</td>\n",
       "      <td>0.0</td>\n",
       "      <td>DE13A2A035ABF203</td>\n",
       "      <td>2014-06-23</td>\n",
       "      <td>36466.5639</td>\n",
       "      <td>33277.5047</td>\n",
       "      <td>94.795051</td>\n",
       "      <td>341.742823</td>\n",
       "      <td>POLYGON ((36478.573 33260.881, 36469.639 33258...</td>\n",
       "    </tr>\n",
       "    <tr>\n",
       "      <th>111524</th>\n",
       "      <td>111525</td>\n",
       "      <td>0</td>\n",
       "      <td>RESIDENTIAL</td>\n",
       "      <td>None</td>\n",
       "      <td>1.4</td>\n",
       "      <td>0.0</td>\n",
       "      <td>0.0</td>\n",
       "      <td>C077F6F10E09CD8A</td>\n",
       "      <td>2014-06-23</td>\n",
       "      <td>36186.3001</td>\n",
       "      <td>33141.8059</td>\n",
       "      <td>91.790646</td>\n",
       "      <td>334.901941</td>\n",
       "      <td>POLYGON ((36176.615 33135.116, 36170.231 33133...</td>\n",
       "    </tr>\n",
       "  </tbody>\n",
       "</table>\n",
       "<p>111525 rows × 14 columns</p>\n",
       "</div>"
      ],
      "text/plain": [
       "        OBJECTID  OID_1      LU_DESC LU_TEXT   GPR  WHI_Q_MX  GPR_B_MN  \\\n",
       "0              1      0      UTILITY       U   EVA       0.0       0.0   \n",
       "1              2      0   OPEN SPACE    None   EVA       0.0       0.0   \n",
       "2              3      0   OPEN SPACE    None   EVA       0.0       0.0   \n",
       "3              4      0   OPEN SPACE    None   EVA       0.0       0.0   \n",
       "4              5      0         ROAD    None  None       0.0       0.0   \n",
       "...          ...    ...          ...     ...   ...       ...       ...   \n",
       "111520    111521      0  RESIDENTIAL    None   1.4       0.0       0.0   \n",
       "111521    111522      0  RESIDENTIAL    None   1.4       0.0       0.0   \n",
       "111522    111523      0  RESIDENTIAL    None   1.4       0.0       0.0   \n",
       "111523    111524      0  RESIDENTIAL    None   1.4       0.0       0.0   \n",
       "111524    111525      0  RESIDENTIAL    None   1.4       0.0       0.0   \n",
       "\n",
       "                 INC_CRC  FMEL_UPD_D      X_ADDR      Y_ADDR   SHAPE_Leng  \\\n",
       "0       BF0C37311F485B64  2014-06-23  23226.8650  37189.3295  1474.502127   \n",
       "1       DD6E9ED08FF9F421  2014-06-23  24627.6556  36234.1907   813.738237   \n",
       "2       9A88CBC8A00238DF  2014-06-23  28064.7767  35926.0034   771.441679   \n",
       "3       2481817E30624F97  2014-06-23  26176.9607  35947.5340  1686.764546   \n",
       "4       C56C3E0EF8A3E0CF  2014-06-23  28179.4427  35988.4606   192.493764   \n",
       "...                  ...         ...         ...         ...          ...   \n",
       "111520  7B395DFEDEDA6027  2014-06-23  36353.2709  33149.3208   111.846016   \n",
       "111521  FAD02777AEE960DC  2014-06-23  36479.7057  33368.9370    76.295655   \n",
       "111522  D3D09E2FF834B910  2014-06-23  36490.5899  33342.9947    71.612146   \n",
       "111523  DE13A2A035ABF203  2014-06-23  36466.5639  33277.5047    94.795051   \n",
       "111524  C077F6F10E09CD8A  2014-06-23  36186.3001  33141.8059    91.790646   \n",
       "\n",
       "           SHAPE_Area                                           geometry  \n",
       "0        70314.109927  POLYGON ((23311.893 37295.503, 23321.050 37278...  \n",
       "1        37851.220985  POLYGON ((24653.610 36352.795, 24724.302 36291...  \n",
       "2        12284.431868  POLYGON ((28204.673 35972.492, 28204.150 35972...  \n",
       "3       151032.767607  POLYGON ((26136.730 35673.236, 26138.818 35678...  \n",
       "4         1162.365423  POLYGON ((28224.064 35984.721, 28204.673 35972...  \n",
       "...               ...                                                ...  \n",
       "111520     491.765336  POLYGON ((36366.563 33129.680, 36356.408 33127...  \n",
       "111521     279.274408  POLYGON ((36495.235 33366.739, 36495.176 33366...  \n",
       "111522     210.860206  POLYGON ((36505.941 33342.008, 36505.889 33341...  \n",
       "111523     341.742823  POLYGON ((36478.573 33260.881, 36469.639 33258...  \n",
       "111524     334.901941  POLYGON ((36176.615 33135.116, 36170.231 33133...  \n",
       "\n",
       "[111525 rows x 14 columns]"
      ]
     },
     "execution_count": 86,
     "metadata": {},
     "output_type": "execute_result"
    }
   ],
   "source": [
    "gpd.read_file('./sg_map/G_MP14_LAND_USE_PL.shp')"
   ]
  },
  {
   "cell_type": "code",
   "execution_count": 67,
   "id": "dbdffd89-adf6-4540-ae06-18a0ac939918",
   "metadata": {},
   "outputs": [
    {
     "ename": "AttributeError",
     "evalue": "'str' object has no attribute 'get'",
     "output_type": "error",
     "traceback": [
      "\u001b[0;31m---------------------------------------------------------------------------\u001b[0m",
      "\u001b[0;31mAttributeError\u001b[0m                            Traceback (most recent call last)",
      "Input \u001b[0;32mIn [67]\u001b[0m, in \u001b[0;36m<cell line: 2>\u001b[0;34m()\u001b[0m\n\u001b[1;32m      1\u001b[0m \u001b[38;5;28;01mfrom\u001b[39;00m \u001b[38;5;21;01mshapely\u001b[39;00m\u001b[38;5;21;01m.\u001b[39;00m\u001b[38;5;21;01mgeometry\u001b[39;00m \u001b[38;5;28;01mimport\u001b[39;00m shape\n\u001b[0;32m----> 2\u001b[0m geom \u001b[38;5;241m=\u001b[39m [shape(i) \u001b[38;5;28;01mfor\u001b[39;00m i \u001b[38;5;129;01min\u001b[39;00m my_dict]\n\u001b[1;32m      3\u001b[0m out \u001b[38;5;241m=\u001b[39m gpd\u001b[38;5;241m.\u001b[39mGeoDataFrame({\u001b[38;5;124m'\u001b[39m\u001b[38;5;124mgeometry\u001b[39m\u001b[38;5;124m'\u001b[39m:geom})\n",
      "Input \u001b[0;32mIn [67]\u001b[0m, in \u001b[0;36m<listcomp>\u001b[0;34m(.0)\u001b[0m\n\u001b[1;32m      1\u001b[0m \u001b[38;5;28;01mfrom\u001b[39;00m \u001b[38;5;21;01mshapely\u001b[39;00m\u001b[38;5;21;01m.\u001b[39;00m\u001b[38;5;21;01mgeometry\u001b[39;00m \u001b[38;5;28;01mimport\u001b[39;00m shape\n\u001b[0;32m----> 2\u001b[0m geom \u001b[38;5;241m=\u001b[39m [\u001b[43mshape\u001b[49m\u001b[43m(\u001b[49m\u001b[43mi\u001b[49m\u001b[43m)\u001b[49m \u001b[38;5;28;01mfor\u001b[39;00m i \u001b[38;5;129;01min\u001b[39;00m my_dict]\n\u001b[1;32m      3\u001b[0m out \u001b[38;5;241m=\u001b[39m gpd\u001b[38;5;241m.\u001b[39mGeoDataFrame({\u001b[38;5;124m'\u001b[39m\u001b[38;5;124mgeometry\u001b[39m\u001b[38;5;124m'\u001b[39m:geom})\n",
      "File \u001b[0;32m/opt/miniconda3/envs/urbanity/lib/python3.9/site-packages/shapely/geometry/geo.py:102\u001b[0m, in \u001b[0;36mshape\u001b[0;34m(context)\u001b[0m\n\u001b[1;32m    100\u001b[0m \u001b[38;5;28;01melse\u001b[39;00m:\n\u001b[1;32m    101\u001b[0m     ob \u001b[38;5;241m=\u001b[39m context\n\u001b[0;32m--> 102\u001b[0m geom_type \u001b[38;5;241m=\u001b[39m \u001b[43mob\u001b[49m\u001b[38;5;241;43m.\u001b[39;49m\u001b[43mget\u001b[49m(\u001b[38;5;124m\"\u001b[39m\u001b[38;5;124mtype\u001b[39m\u001b[38;5;124m\"\u001b[39m)\u001b[38;5;241m.\u001b[39mlower()\n\u001b[1;32m    103\u001b[0m \u001b[38;5;28;01mif\u001b[39;00m \u001b[38;5;124m'\u001b[39m\u001b[38;5;124mcoordinates\u001b[39m\u001b[38;5;124m'\u001b[39m \u001b[38;5;129;01min\u001b[39;00m ob \u001b[38;5;129;01mand\u001b[39;00m _is_coordinates_empty(ob[\u001b[38;5;124m'\u001b[39m\u001b[38;5;124mcoordinates\u001b[39m\u001b[38;5;124m'\u001b[39m]):\n\u001b[1;32m    104\u001b[0m     \u001b[38;5;28;01mreturn\u001b[39;00m _empty_shape_for_no_coordinates(geom_type)\n",
      "\u001b[0;31mAttributeError\u001b[0m: 'str' object has no attribute 'get'"
     ]
    }
   ],
   "source": [
    "from shapely.geometry import shape\n",
    "geom = [my_dict['features'][0]['geometry']['type'] for feature in my_dict]\n",
    "out = gpd.GeoDataFrame({'geometry':geom})"
   ]
  },
  {
   "cell_type": "code",
   "execution_count": null,
   "id": "2c6fd711-92c5-43ac-97c3-8475e0af9a40",
   "metadata": {},
   "outputs": [],
   "source": [
    "def get_bbox(geojson: dict):\n",
    "    \n",
    "    lon_min, lat_min, lon_max, lat_max = float('inf'), float('inf'), float('-inf'), float('-inf')\n",
    "    for lon,lat in [*geojson['features'][0]['geometry']['coordinates'][0]]:\n",
    "        lon_min = min(lon_min, lon)\n",
    "        lat_min = min(lat_min, lat)\n",
    "        lon_max = max(lon_max, lon)\n",
    "        lat_max = max(lat_max, lat)\n",
    "    return ([lat_min, lon_min, lat_max, lon_max])\n",
    "\n",
    "bbox = get_bbox(my_dict)"
   ]
  },
  {
   "cell_type": "code",
   "execution_count": null,
   "id": "a691cb46-a1da-4415-a3e5-014823544f3e",
   "metadata": {},
   "outputs": [],
   "source": [
    "overpass_url = \"http://overpass-api.de/api/interpreter\"\n",
    "\n",
    "def extract_osm_with_geojson(geojson: Optional[dict] = None, country_name: Optional[str] = None):\n",
    "    \n",
    "    if geojson is None:\n",
    "        overpass_query = f\"\"\"\n",
    "        [out:json];\n",
    "        area[\"ISO3166-1\"={countries[country_name]['A2']}][admin_level=2];\n",
    "        node[\"amenity\"~\"clinic|restaurant\"](area);\n",
    "        out center;\n",
    "        \"\"\"\n",
    "    # find bounds, filter by geodataframe, return\n",
    "    else:\n",
    "        \n",
    "        bbox = get_bbox(geojson)\n",
    "        print(bbox)\n",
    "        overpass_query = '[out:json]; node[\"amenity\"~\"clinic|restaurant\"]' + str(tuple(bbox))+ '; out center;'\n",
    "        \n",
    "    response = requests.get(overpass_url, \n",
    "                            params={'data': overpass_query})\n",
    "    \n",
    "    data = response.json()\n",
    "    return data['elements']\n",
    "\n",
    "poi_data = extract_osm_with_geojson(geojson = my_dict, country_name = 'Singapore')"
   ]
  },
  {
   "cell_type": "code",
   "execution_count": null,
   "id": "b900c6bb-14c1-4518-9d22-d1dacc8091db",
   "metadata": {},
   "outputs": [],
   "source": [
    "type(poi_data)"
   ]
  },
  {
   "cell_type": "code",
   "execution_count": null,
   "id": "adfdd039-9db4-4a54-bc4c-5439d044d44e",
   "metadata": {},
   "outputs": [],
   "source": [
    "def convert_json(poi_data: dict):\n",
    "    return ({ \"type\": \"FeatureCollection\",\n",
    "                        \"features\": [ \n",
    "                                        {\"type\": \"Feature\",\n",
    "                                         \"geometry\": { \"type\": \"Point\",\n",
    "                                                       \"coordinates\": [ feature['lon'],\n",
    "                                                                        feature['lat']]},\n",
    "                                         \"properties\": { key: value \n",
    "                                                         for key, value in feature.items()\n",
    "                                                         if key not in ('lat', 'lon') }\n",
    "                                         } \n",
    "                                     for feature in poi_data\n",
    "                                    ]\n",
    "                       })\n",
    "\n",
    "out = convert_json(poi_data)"
   ]
  },
  {
   "cell_type": "code",
   "execution_count": null,
   "id": "99bb1beb-6da3-410f-af60-32c533960ac7",
   "metadata": {},
   "outputs": [],
   "source": [
    "type(out)"
   ]
  },
  {
   "cell_type": "code",
   "execution_count": null,
   "id": "7d5d3373-82c5-470c-952a-92467f599819",
   "metadata": {},
   "outputs": [],
   "source": [
    "with open('out.geojson', 'w') as fp:\n",
    "    json.dump(out, fp)"
   ]
  },
  {
   "cell_type": "code",
   "execution_count": null,
   "id": "d86a0888-8a64-45da-9c22-3d06b702b8b9",
   "metadata": {},
   "outputs": [],
   "source": [
    "geodf = gpd.read_file('./out.geojson')\n",
    "geodf"
   ]
  },
  {
   "cell_type": "code",
   "execution_count": null,
   "id": "e496f5a8-3b41-4825-9f1a-d864e62fa282",
   "metadata": {},
   "outputs": [],
   "source": [
    "poi_layer = []\n",
    "for feat in poi_data:\n",
    "    icon = Icon(icon_url='https://cdn-icons-png.flaticon.com/512/7500/7500224.png', icon_size=[20, 20])\n",
    "    marker = Marker(location=(feat['lat'] , feat['lon']), icon=icon)\n",
    "    poi_layer.append(marker)\n",
    "    layer_group = LayerGroup(layers=poi_layer, name = 'POI')\n",
    "    \n",
    "m.add_layer(layer_group)"
   ]
  },
  {
   "cell_type": "code",
   "execution_count": null,
   "id": "ce0a3001-ae13-464f-8b9f-0e2e8d2dfcd8",
   "metadata": {},
   "outputs": [],
   "source": [
    "m"
   ]
  },
  {
   "cell_type": "code",
   "execution_count": null,
   "id": "f4a340e5-5321-4072-a80c-2b1bc9a922f2",
   "metadata": {},
   "outputs": [],
   "source": [
    "class OSMLayer:\n",
    "    '''\n",
    "    Returns a layer of OSM elements based on user input\n",
    "    '''\n",
    "    def __init__(self, bbox: Optional(tuple), area: Optional(str)):\n",
    "        self.area = f\"area['ISO3166-1'={area}][admin_level=2]\n",
    "        self.bbox = \n",
    "    \n",
    "    def __repr__(self):\n",
    "        "
   ]
  },
  {
   "cell_type": "code",
   "execution_count": null,
   "id": "97de8476-e1cb-49d3-b41b-0ea59b34def6",
   "metadata": {},
   "outputs": [],
   "source": []
  },
  {
   "cell_type": "code",
   "execution_count": null,
   "id": "ef89d741-caa7-4e18-9f97-7c989e844d1a",
   "metadata": {},
   "outputs": [],
   "source": []
  }
 ],
 "metadata": {
  "kernelspec": {
   "display_name": "Python [conda env:urbanity] *",
   "language": "python",
   "name": "conda-env-urbanity-py"
  },
  "language_info": {
   "codemirror_mode": {
    "name": "ipython",
    "version": 3
   },
   "file_extension": ".py",
   "mimetype": "text/x-python",
   "name": "python",
   "nbconvert_exporter": "python",
   "pygments_lexer": "ipython3",
   "version": "3.9.13"
  }
 },
 "nbformat": 4,
 "nbformat_minor": 5
}
