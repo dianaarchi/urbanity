{
 "cells": [
  {
   "cell_type": "markdown",
   "id": "82a6aedb-ce0d-416e-8fe6-3b9c69885618",
   "metadata": {},
   "source": [
    "## Urbanity Demo\n",
    "\n",
    "This notebook demonstrates the main functionalities for the urbanity python package."
   ]
  },
  {
   "cell_type": "markdown",
   "id": "3e7b26e3-9a17-4bc7-99b4-2d4e7b8eb225",
   "metadata": {},
   "source": [
    "### 1. Import libraries"
   ]
  },
  {
   "cell_type": "code",
   "execution_count": 1,
   "id": "8d08d1ac-25c3-48c6-8811-cd972d9b2854",
   "metadata": {},
   "outputs": [],
   "source": [
    "# Import Libraries\n",
    "import json\n",
    "import urbanity as urb"
   ]
  },
  {
   "cell_type": "markdown",
   "id": "5ed80755-9314-450b-9b00-def4099e59eb",
   "metadata": {},
   "source": [
    "### 2. Load base map and layers\n",
    "In this example, Singapore is chosen as a case study."
   ]
  },
  {
   "cell_type": "code",
   "execution_count": 2,
   "id": "99859371-166a-452e-a107-48a8b7bf5e4d",
   "metadata": {
    "tags": []
   },
   "outputs": [
    {
     "data": {
      "application/vnd.jupyter.widget-view+json": {
       "model_id": "c2cddf7d6e674b06b7bb3c0aab94f215",
       "version_major": 2,
       "version_minor": 0
      },
      "text/plain": [
       "Map(center=[54.7023545, -3.2765753], controls=(ZoomControl(options=['position', 'zoom_in_text', 'zoom_in_title…"
      ]
     },
     "metadata": {},
     "output_type": "display_data"
    }
   ],
   "source": [
    "m = urb.Map(country = 'United Kingdom')\n",
    "m"
   ]
  },
  {
   "cell_type": "markdown",
   "id": "12d82975-e2a4-4a33-b57a-6cd9f9ede6eb",
   "metadata": {},
   "source": [
    "### 3. Add polygon bounding box \n",
    "Bounding box can be specified in two ways: 1) add directly via popular file formats (e.g. shapefile, geojson) or 2) via the add_bbox function that allows the user to draw directly on the map. "
   ]
  },
  {
   "cell_type": "code",
   "execution_count": null,
   "id": "5dfcd444-cd1f-42ad-af91-30da850b2363",
   "metadata": {},
   "outputs": [],
   "source": [
    "m.add_bbox(show=True)"
   ]
  },
  {
   "cell_type": "code",
   "execution_count": null,
   "id": "da470546-7785-45ab-ae8b-27338ceb7b46",
   "metadata": {},
   "outputs": [],
   "source": [
    "m.add_bbox()"
   ]
  },
  {
   "cell_type": "code",
   "execution_count": 3,
   "id": "c4f717f9-fa8e-4702-a7d1-142dc7724535",
   "metadata": {},
   "outputs": [
    {
     "data": {
      "application/vnd.jupyter.widget-view+json": {
       "model_id": "c2cddf7d6e674b06b7bb3c0aab94f215",
       "version_major": 2,
       "version_minor": 0
      },
      "text/plain": [
       "Map(bottom=166784.0, center=[54.7023545, -3.2765753], controls=(ZoomControl(options=['position', 'zoom_in_text…"
      ]
     },
     "metadata": {},
     "output_type": "display_data"
    }
   ],
   "source": [
    "# Map object allows \n",
    "m.add_polygon_boundary('./data/london.geojson', show = True, layer_name = 'London', polygon_style = {'style': {'color': 'black', 'fillColor': '#3366cc', 'opacity':0.05, 'weight':1.9, 'dashArray':'2', 'fillOpacity':0.6},\n",
    "                                         'hover_style': {'fillColor': 'white' , 'fillOpacity': 0.5}})"
   ]
  },
  {
   "cell_type": "markdown",
   "id": "d31b6998-c4da-41ae-bf4f-c3ff4652685f",
   "metadata": {},
   "source": [
    "### 4a. Obtain street network (primal) "
   ]
  },
  {
   "cell_type": "code",
   "execution_count": 4,
   "id": "d245d4c7-9f3a-44f7-b329-bd1e5e3ede5d",
   "metadata": {},
   "outputs": [
    {
     "name": "stdout",
     "output_type": "stream",
     "text": [
      "Creating data folder and downloading osm street data...\n",
      "Data extracted successfully. Proceeding to construct street network.\n",
      "--- 22.297 seconds ---\n"
     ]
    }
   ],
   "source": [
    "S, S_nodes, S_edges = m.get_street_network(city='london')"
   ]
  },
  {
   "cell_type": "code",
   "execution_count": 6,
   "id": "0ba97697-ad6f-4d8f-914d-2cccb35107b9",
   "metadata": {},
   "outputs": [
    {
     "name": "stdout",
     "output_type": "stream",
     "text": [
      "Network has 1400 nodes and 3395 edges.\n"
     ]
    }
   ],
   "source": [
    "print(f\"Network has {len(S_nodes)} nodes and {len(S_edges)} edges.\")"
   ]
  },
  {
   "cell_type": "markdown",
   "id": "36eab2f1-3d95-432b-b13e-01f34c76db5f",
   "metadata": {},
   "source": [
    "### 4b. Obtain edge network"
   ]
  },
  {
   "cell_type": "code",
   "execution_count": null,
   "id": "d4916e72-daec-47ef-97e1-a24ed9a0fb8b",
   "metadata": {},
   "outputs": [],
   "source": [
    "G, G_nodes, G_edges = m.get_street_network(dual=True)"
   ]
  },
  {
   "cell_type": "code",
   "execution_count": null,
   "id": "a90e2913-4e0e-4f18-987c-e1199e1a45b7",
   "metadata": {},
   "outputs": [],
   "source": [
    "print(f\"Network has {len(G_nodes)} nodes and {len(G_edges)} edges.\")"
   ]
  },
  {
   "cell_type": "markdown",
   "id": "a8b74cf5-938e-4bdd-b31b-41b2af506bc4",
   "metadata": {},
   "source": [
    "### 4c. Obtain building network"
   ]
  },
  {
   "cell_type": "code",
   "execution_count": null,
   "id": "21db772d-c8d9-41f1-8f92-1e897928afa8",
   "metadata": {},
   "outputs": [],
   "source": [
    "B, B_nodes, B_edges = m.get_building_network()"
   ]
  },
  {
   "cell_type": "code",
   "execution_count": null,
   "id": "4a85833c-3824-411f-85bc-7a386eefb6a8",
   "metadata": {},
   "outputs": [],
   "source": [
    "print(f\"Network has {len(B_nodes)} nodes and {len(B_edges)} edges.\")"
   ]
  },
  {
   "cell_type": "markdown",
   "id": "0b94f883-cad9-4a4e-bde1-e421b0f22d66",
   "metadata": {},
   "source": [
    "### 5. Visualise network "
   ]
  },
  {
   "cell_type": "code",
   "execution_count": 7,
   "id": "9c390266-fb77-460c-b4ad-bd6c11fde586",
   "metadata": {},
   "outputs": [
    {
     "name": "stdout",
     "output_type": "stream",
     "text": [
      "User Guide: https://docs.kepler.gl/docs/keplergl-jupyter\n"
     ]
    }
   ],
   "source": [
    "from keplergl import KeplerGl\n",
    "test_map = KeplerGl(height=800)"
   ]
  },
  {
   "cell_type": "code",
   "execution_count": 8,
   "id": "04c93c23-2f82-4851-a7a2-3d45500bb00b",
   "metadata": {},
   "outputs": [],
   "source": [
    "# test_map.add_data(data = S_edges, name='Street Network (Edges)')\n",
    "test_map.add_data(data = S_nodes.copy(), name='Street Network (Points)')"
   ]
  },
  {
   "cell_type": "code",
   "execution_count": 9,
   "id": "2e49b7ae-bd88-4e74-bd2e-f131089f1510",
   "metadata": {},
   "outputs": [],
   "source": [
    "test_map.add_data(data = S_edges.copy(), name='Street Network (Edges)')"
   ]
  },
  {
   "cell_type": "code",
   "execution_count": 10,
   "id": "853246ae-5bf2-420d-8465-629b30ff8018",
   "metadata": {},
   "outputs": [
    {
     "data": {
      "application/vnd.jupyter.widget-view+json": {
       "model_id": "e4881f8b803d4e419b7de3544703e5ce",
       "version_major": 2,
       "version_minor": 0
      },
      "text/plain": [
       "KeplerGl(data={'Street Network (Points)': {'index': [2961557, 24950101, 24950105, 2961540, 24950109, 2961549, …"
      ]
     },
     "metadata": {},
     "output_type": "display_data"
    }
   ],
   "source": [
    "test_map"
   ]
  },
  {
   "cell_type": "code",
   "execution_count": null,
   "id": "aa9a7101-2777-4c4b-915c-5137d3ac01b1",
   "metadata": {},
   "outputs": [],
   "source": [
    "config"
   ]
  },
  {
   "cell_type": "code",
   "execution_count": null,
   "id": "986c7d90-639f-4bcb-8134-804bdf73b96e",
   "metadata": {},
   "outputs": [],
   "source": [
    "config = test_map.config\n",
    "with open('my_config.json', 'w') as fp:\n",
    "    json.dump(config, fp)"
   ]
  },
  {
   "cell_type": "code",
   "execution_count": null,
   "id": "62114448-ec1a-4cc3-99d5-a6ad141b7ff3",
   "metadata": {},
   "outputs": [],
   "source": [
    "with open(\"./my_config.json\") as json_file:\n",
    "    config_dict = json.load(json_file)"
   ]
  },
  {
   "cell_type": "code",
   "execution_count": null,
   "id": "704c7407-24cf-403d-86b3-ede06bcf2dbd",
   "metadata": {},
   "outputs": [],
   "source": [
    "# Load new map with config\n",
    "map_1 = KeplerGl(height=800, data={'Street Network (Points)': S_nodes.copy(), 'Street Network (Edges)': S_edges.copy()}, config=config_dict)"
   ]
  },
  {
   "cell_type": "code",
   "execution_count": null,
   "id": "8979382b-1898-4f7d-9ecb-78f6597f2692",
   "metadata": {
    "tags": []
   },
   "outputs": [],
   "source": [
    "map_1"
   ]
  },
  {
   "cell_type": "code",
   "execution_count": null,
   "id": "18d2fbed-eb4d-46bd-bcb3-61bcc92fe53d",
   "metadata": {
    "tags": []
   },
   "outputs": [],
   "source": [
    "# Save current map\n",
    "# test_map.save_to_html(file_name=\"my_map.html\")\n",
    "\n",
    "# Save map with current configuration\n",
    "test_map.save_to_html(data={'Street Network (Points)': S_nodes.copy(), 'Street Network (Edges)': S_edges.copy()}, config=config_dict, file_name=\"my_map_config.html\")"
   ]
  }
 ],
 "metadata": {
  "kernelspec": {
   "display_name": "Python [conda env:urbanity] *",
   "language": "python",
   "name": "conda-env-urbanity-py"
  },
  "language_info": {
   "codemirror_mode": {
    "name": "ipython",
    "version": 3
   },
   "file_extension": ".py",
   "mimetype": "text/x-python",
   "name": "python",
   "nbconvert_exporter": "python",
   "pygments_lexer": "ipython3",
   "version": "3.9.13"
  }
 },
 "nbformat": 4,
 "nbformat_minor": 5
}
